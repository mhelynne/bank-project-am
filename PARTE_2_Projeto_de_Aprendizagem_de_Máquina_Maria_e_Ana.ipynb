{
  "nbformat": 4,
  "nbformat_minor": 0,
  "metadata": {
    "colab": {
      "name": "PARTE 2 - Projeto de Aprendizagem de Máquina - Maria e Ana",
      "provenance": [],
      "collapsed_sections": [],
      "include_colab_link": true
    },
    "kernelspec": {
      "name": "python3",
      "display_name": "Python 3"
    }
  },
  "cells": [
    {
      "cell_type": "markdown",
      "metadata": {
        "id": "view-in-github",
        "colab_type": "text"
      },
      "source": [
        "<a href=\"https://colab.research.google.com/github/mhelynne/bank-project-am/blob/master/PARTE_2_Projeto_de_Aprendizagem_de_M%C3%A1quina_Maria_e_Ana.ipynb\" target=\"_parent\"><img src=\"https://colab.research.google.com/assets/colab-badge.svg\" alt=\"Open In Colab\"/></a>"
      ]
    },
    {
      "cell_type": "markdown",
      "metadata": {
        "id": "1AeZRD2k-m3e"
      },
      "source": [
        "#Projeto da disciplina Aprendizagem de Máquina\n",
        "Professores: Evandro Costa e Xu Yang\n",
        "\n",
        "Alunas: Ana Correia e Helynne Lima\n",
        "\n",
        "O banco de dados escolhido para trabalhar neste projeto foi o Bank Marketing Data Set, disponível [aqui](https://archive.ics.uci.edu/ml/datasets/Bank+Marketing)."
      ]
    },
    {
      "cell_type": "code",
      "metadata": {
        "id": "QdcXwmfH-w_Q",
        "outputId": "69dde3a7-c322-4ad6-e7e9-b041234082f2",
        "colab": {
          "base_uri": "https://localhost:8080/",
          "height": 241
        }
      },
      "source": [
        "import pandas as pd\n",
        "\n",
        "url = 'https://github.com/mhelynne/bank-project-am/blob/master/bank/bank-num.csv?raw=true'\n",
        "data = pd.read_csv(url, sep=\",\", index_col=0)\n",
        "\n",
        "data.head()"
      ],
      "execution_count": 1,
      "outputs": [
        {
          "output_type": "execute_result",
          "data": {
            "text/html": [
              "<div>\n",
              "<style scoped>\n",
              "    .dataframe tbody tr th:only-of-type {\n",
              "        vertical-align: middle;\n",
              "    }\n",
              "\n",
              "    .dataframe tbody tr th {\n",
              "        vertical-align: top;\n",
              "    }\n",
              "\n",
              "    .dataframe thead th {\n",
              "        text-align: right;\n",
              "    }\n",
              "</style>\n",
              "<table border=\"1\" class=\"dataframe\">\n",
              "  <thead>\n",
              "    <tr style=\"text-align: right;\">\n",
              "      <th></th>\n",
              "      <th>age</th>\n",
              "      <th>education</th>\n",
              "      <th>default</th>\n",
              "      <th>balance</th>\n",
              "      <th>housing</th>\n",
              "      <th>loan</th>\n",
              "      <th>day</th>\n",
              "      <th>month</th>\n",
              "      <th>duration</th>\n",
              "      <th>campaign</th>\n",
              "      <th>pdays</th>\n",
              "      <th>previous</th>\n",
              "      <th>job_admin.</th>\n",
              "      <th>job_blue-collar</th>\n",
              "      <th>job_entrepreneur</th>\n",
              "      <th>job_housemaid</th>\n",
              "      <th>job_management</th>\n",
              "      <th>job_retired</th>\n",
              "      <th>job_self-employed</th>\n",
              "      <th>job_services</th>\n",
              "      <th>job_student</th>\n",
              "      <th>job_technician</th>\n",
              "      <th>job_unemployed</th>\n",
              "      <th>job_unknown</th>\n",
              "      <th>marital_divorced</th>\n",
              "      <th>marital_married</th>\n",
              "      <th>marital_single</th>\n",
              "      <th>contact_cellular</th>\n",
              "      <th>contact_telephone</th>\n",
              "      <th>contact_unknown</th>\n",
              "      <th>poutcome_failure</th>\n",
              "      <th>poutcome_other</th>\n",
              "      <th>poutcome_success</th>\n",
              "      <th>poutcome_unknown</th>\n",
              "      <th>y</th>\n",
              "    </tr>\n",
              "  </thead>\n",
              "  <tbody>\n",
              "    <tr>\n",
              "      <th>0</th>\n",
              "      <td>58</td>\n",
              "      <td>3</td>\n",
              "      <td>0</td>\n",
              "      <td>2143</td>\n",
              "      <td>1</td>\n",
              "      <td>0</td>\n",
              "      <td>5</td>\n",
              "      <td>5</td>\n",
              "      <td>261</td>\n",
              "      <td>1</td>\n",
              "      <td>-1</td>\n",
              "      <td>0</td>\n",
              "      <td>0</td>\n",
              "      <td>0</td>\n",
              "      <td>0</td>\n",
              "      <td>0</td>\n",
              "      <td>1</td>\n",
              "      <td>0</td>\n",
              "      <td>0</td>\n",
              "      <td>0</td>\n",
              "      <td>0</td>\n",
              "      <td>0</td>\n",
              "      <td>0</td>\n",
              "      <td>0</td>\n",
              "      <td>0</td>\n",
              "      <td>1</td>\n",
              "      <td>0</td>\n",
              "      <td>0</td>\n",
              "      <td>0</td>\n",
              "      <td>1</td>\n",
              "      <td>0</td>\n",
              "      <td>0</td>\n",
              "      <td>0</td>\n",
              "      <td>1</td>\n",
              "      <td>0</td>\n",
              "    </tr>\n",
              "    <tr>\n",
              "      <th>1</th>\n",
              "      <td>44</td>\n",
              "      <td>2</td>\n",
              "      <td>0</td>\n",
              "      <td>29</td>\n",
              "      <td>1</td>\n",
              "      <td>0</td>\n",
              "      <td>5</td>\n",
              "      <td>5</td>\n",
              "      <td>151</td>\n",
              "      <td>1</td>\n",
              "      <td>-1</td>\n",
              "      <td>0</td>\n",
              "      <td>0</td>\n",
              "      <td>0</td>\n",
              "      <td>0</td>\n",
              "      <td>0</td>\n",
              "      <td>0</td>\n",
              "      <td>0</td>\n",
              "      <td>0</td>\n",
              "      <td>0</td>\n",
              "      <td>0</td>\n",
              "      <td>1</td>\n",
              "      <td>0</td>\n",
              "      <td>0</td>\n",
              "      <td>0</td>\n",
              "      <td>0</td>\n",
              "      <td>1</td>\n",
              "      <td>0</td>\n",
              "      <td>0</td>\n",
              "      <td>1</td>\n",
              "      <td>0</td>\n",
              "      <td>0</td>\n",
              "      <td>0</td>\n",
              "      <td>1</td>\n",
              "      <td>0</td>\n",
              "    </tr>\n",
              "    <tr>\n",
              "      <th>2</th>\n",
              "      <td>33</td>\n",
              "      <td>2</td>\n",
              "      <td>0</td>\n",
              "      <td>2</td>\n",
              "      <td>1</td>\n",
              "      <td>1</td>\n",
              "      <td>5</td>\n",
              "      <td>5</td>\n",
              "      <td>76</td>\n",
              "      <td>1</td>\n",
              "      <td>-1</td>\n",
              "      <td>0</td>\n",
              "      <td>0</td>\n",
              "      <td>0</td>\n",
              "      <td>1</td>\n",
              "      <td>0</td>\n",
              "      <td>0</td>\n",
              "      <td>0</td>\n",
              "      <td>0</td>\n",
              "      <td>0</td>\n",
              "      <td>0</td>\n",
              "      <td>0</td>\n",
              "      <td>0</td>\n",
              "      <td>0</td>\n",
              "      <td>0</td>\n",
              "      <td>1</td>\n",
              "      <td>0</td>\n",
              "      <td>0</td>\n",
              "      <td>0</td>\n",
              "      <td>1</td>\n",
              "      <td>0</td>\n",
              "      <td>0</td>\n",
              "      <td>0</td>\n",
              "      <td>1</td>\n",
              "      <td>0</td>\n",
              "    </tr>\n",
              "    <tr>\n",
              "      <th>3</th>\n",
              "      <td>47</td>\n",
              "      <td>0</td>\n",
              "      <td>0</td>\n",
              "      <td>1506</td>\n",
              "      <td>1</td>\n",
              "      <td>0</td>\n",
              "      <td>5</td>\n",
              "      <td>5</td>\n",
              "      <td>92</td>\n",
              "      <td>1</td>\n",
              "      <td>-1</td>\n",
              "      <td>0</td>\n",
              "      <td>0</td>\n",
              "      <td>1</td>\n",
              "      <td>0</td>\n",
              "      <td>0</td>\n",
              "      <td>0</td>\n",
              "      <td>0</td>\n",
              "      <td>0</td>\n",
              "      <td>0</td>\n",
              "      <td>0</td>\n",
              "      <td>0</td>\n",
              "      <td>0</td>\n",
              "      <td>0</td>\n",
              "      <td>0</td>\n",
              "      <td>1</td>\n",
              "      <td>0</td>\n",
              "      <td>0</td>\n",
              "      <td>0</td>\n",
              "      <td>1</td>\n",
              "      <td>0</td>\n",
              "      <td>0</td>\n",
              "      <td>0</td>\n",
              "      <td>1</td>\n",
              "      <td>0</td>\n",
              "    </tr>\n",
              "    <tr>\n",
              "      <th>4</th>\n",
              "      <td>33</td>\n",
              "      <td>0</td>\n",
              "      <td>0</td>\n",
              "      <td>1</td>\n",
              "      <td>0</td>\n",
              "      <td>0</td>\n",
              "      <td>5</td>\n",
              "      <td>5</td>\n",
              "      <td>198</td>\n",
              "      <td>1</td>\n",
              "      <td>-1</td>\n",
              "      <td>0</td>\n",
              "      <td>0</td>\n",
              "      <td>0</td>\n",
              "      <td>0</td>\n",
              "      <td>0</td>\n",
              "      <td>0</td>\n",
              "      <td>0</td>\n",
              "      <td>0</td>\n",
              "      <td>0</td>\n",
              "      <td>0</td>\n",
              "      <td>0</td>\n",
              "      <td>0</td>\n",
              "      <td>1</td>\n",
              "      <td>0</td>\n",
              "      <td>0</td>\n",
              "      <td>1</td>\n",
              "      <td>0</td>\n",
              "      <td>0</td>\n",
              "      <td>1</td>\n",
              "      <td>0</td>\n",
              "      <td>0</td>\n",
              "      <td>0</td>\n",
              "      <td>1</td>\n",
              "      <td>0</td>\n",
              "    </tr>\n",
              "  </tbody>\n",
              "</table>\n",
              "</div>"
            ],
            "text/plain": [
              "   age  education  default  ...  poutcome_success  poutcome_unknown  y\n",
              "0   58          3        0  ...                 0                 1  0\n",
              "1   44          2        0  ...                 0                 1  0\n",
              "2   33          2        0  ...                 0                 1  0\n",
              "3   47          0        0  ...                 0                 1  0\n",
              "4   33          0        0  ...                 0                 1  0\n",
              "\n",
              "[5 rows x 35 columns]"
            ]
          },
          "metadata": {
            "tags": []
          },
          "execution_count": 1
        }
      ]
    },
    {
      "cell_type": "markdown",
      "metadata": {
        "id": "zRhrSBhIFGAf"
      },
      "source": [
        "#Imports e configurações iniciais"
      ]
    },
    {
      "cell_type": "code",
      "metadata": {
        "id": "ZI4G_E4kFJ4H"
      },
      "source": [
        "import math\n",
        "import numpy as np\n",
        "from time import time\n",
        "from sklearn.preprocessing import StandardScaler\n",
        "\n",
        "from sklearn.neighbors import KNeighborsClassifier\n",
        "from sklearn.ensemble import RandomForestClassifier\n",
        "from sklearn.naive_bayes import GaussianNB\n",
        "from sklearn.neural_network import MLPClassifier\n",
        "from sklearn.svm import SVC\n",
        "from sklearn.model_selection import cross_validate\n",
        "\n",
        "import warnings\n",
        "warnings.filterwarnings(\"ignore\")\n",
        "\n",
        "\n",
        "target = data.pop('y')\n",
        "cv = 10\n",
        "\n",
        "scoring = ['accuracy', 'f1_weighted']"
      ],
      "execution_count": 2,
      "outputs": []
    },
    {
      "cell_type": "markdown",
      "metadata": {
        "id": "eoMGAcwLFkbI"
      },
      "source": [
        "#Função de treinamento e teste"
      ]
    },
    {
      "cell_type": "code",
      "metadata": {
        "id": "3d6yJ0dxFpZV"
      },
      "source": [
        "def train_test(model, data= data, target= target, cv= cv):\n",
        "\n",
        "  train_log = \"\"\n",
        "  t0 = time()\n",
        "\n",
        "  scores = cross_validate(model, data, target, cv= cv,\n",
        "                          scoring=scoring, return_train_score=False)\n",
        "  \n",
        "  train_log  += \"Tempo gasto: \" + str(round(time()-t0, 3)) + \"s\\n\"\n",
        "\n",
        "  fit_time = np.mean(scores['fit_time'])\n",
        "  train_log  += \"\\nTempo médio de treinamento: \" + str(round(fit_time, 3))\n",
        "\n",
        "  score_time = np.mean(scores['score_time'])\n",
        "  train_log  += \"\\nTempo médio de teste: \" + str(round(score_time, 3))\n",
        "\n",
        "  total_time = fit_time + score_time\n",
        "  train_log  += \"\\nTempo total médio: \" + str(round(total_time, 3))\n",
        "\n",
        "  test_accuracy = np.mean(scores['test_accuracy'])\n",
        "  train_log  += \"\\nAcurácia média: \" + str(round(test_accuracy, 3))\n",
        "\n",
        "  test_f1_weighted = np.mean(scores['test_f1_weighted'])\n",
        "  train_log  += \"\\nF1-score médio de teste: \" + str(round(test_f1_weighted, 3))\n",
        "  \n",
        "  return train_log"
      ],
      "execution_count": 3,
      "outputs": []
    },
    {
      "cell_type": "markdown",
      "metadata": {
        "id": "8Zjb0BSO_GkL"
      },
      "source": [
        "#KNN"
      ]
    },
    {
      "cell_type": "markdown",
      "metadata": {
        "id": "Kop0QMfMFTSr"
      },
      "source": [
        "k = raiz quadrada de n"
      ]
    },
    {
      "cell_type": "code",
      "metadata": {
        "id": "KOFI8mK2_qaN",
        "outputId": "c73bcf98-3074-433b-aef5-1840e0d85273",
        "colab": {
          "base_uri": "https://localhost:8080/",
          "height": 136
        }
      },
      "source": [
        "n = data.shape[0]\n",
        "sqrt_n = math.sqrt(n)\n",
        "neigh = KNeighborsClassifier(n_neighbors= int(sqrt_n))\n",
        "log = train_test(neigh)\n",
        "print(log)"
      ],
      "execution_count": 4,
      "outputs": [
        {
          "output_type": "stream",
          "text": [
            "Tempo gasto: 12.498s\n",
            "\n",
            "Tempo médio de treinamento: 0.267\n",
            "Tempo médio de teste: 0.981\n",
            "Tempo total médio: 1.248\n",
            "Acurácia média: 0.884\n",
            "F1-score médio de teste: 0.847\n"
          ],
          "name": "stdout"
        }
      ]
    },
    {
      "cell_type": "markdown",
      "metadata": {
        "id": "vJmrPPJzFYMH"
      },
      "source": [
        "k = 10"
      ]
    },
    {
      "cell_type": "code",
      "metadata": {
        "id": "RNFUBpoNFeIf",
        "outputId": "ffb3d6ba-1f0b-4278-ebae-3655deb94bbd",
        "colab": {
          "base_uri": "https://localhost:8080/",
          "height": 136
        }
      },
      "source": [
        "neigh10 = KNeighborsClassifier(n_neighbors= 10)\n",
        "\n",
        "log = train_test(neigh10)\n",
        "print(log)"
      ],
      "execution_count": 5,
      "outputs": [
        {
          "output_type": "stream",
          "text": [
            "Tempo gasto: 6.09s\n",
            "\n",
            "Tempo médio de treinamento: 0.267\n",
            "Tempo médio de teste: 0.341\n",
            "Tempo total médio: 0.607\n",
            "Acurácia média: 0.88\n",
            "F1-score médio de teste: 0.855\n"
          ],
          "name": "stdout"
        }
      ]
    },
    {
      "cell_type": "markdown",
      "metadata": {
        "id": "Kf5TNS7DE8sW"
      },
      "source": [
        "#Randon Forest"
      ]
    },
    {
      "cell_type": "code",
      "metadata": {
        "id": "TjwljchqE_Db",
        "outputId": "8f8d796c-fcdd-49d5-ee95-9a73e0bcd348",
        "colab": {
          "base_uri": "https://localhost:8080/",
          "height": 136
        }
      },
      "source": [
        "rdnf = RandomForestClassifier(criterion='entropy', max_depth= 5, random_state=42)\n",
        "\n",
        "log = train_test(rdnf)\n",
        "print(log)"
      ],
      "execution_count": 6,
      "outputs": [
        {
          "output_type": "stream",
          "text": [
            "Tempo gasto: 21.869s\n",
            "\n",
            "Tempo médio de treinamento: 2.146\n",
            "Tempo médio de teste: 0.039\n",
            "Tempo total médio: 2.185\n",
            "Acurácia média: 0.883\n",
            "F1-score médio de teste: 0.842\n"
          ],
          "name": "stdout"
        }
      ]
    },
    {
      "cell_type": "markdown",
      "metadata": {
        "id": "fZMR2BnUI2je"
      },
      "source": [
        "#Naive Bayes"
      ]
    },
    {
      "cell_type": "code",
      "metadata": {
        "id": "OIYfb0guI4dp",
        "outputId": "8d021286-b133-4319-ec30-e0190a7c1620",
        "colab": {
          "base_uri": "https://localhost:8080/",
          "height": 136
        }
      },
      "source": [
        "gnb = GaussianNB()\n",
        "\n",
        "log = train_test(gnb)\n",
        "print(log)"
      ],
      "execution_count": 7,
      "outputs": [
        {
          "output_type": "stream",
          "text": [
            "Tempo gasto: 0.479s\n",
            "\n",
            "Tempo médio de treinamento: 0.04\n",
            "Tempo médio de teste: 0.006\n",
            "Tempo total médio: 0.046\n",
            "Acurácia média: 0.785\n",
            "F1-score médio de teste: 0.802\n"
          ],
          "name": "stdout"
        }
      ]
    },
    {
      "cell_type": "markdown",
      "metadata": {
        "id": "gJbBrmFII4xK"
      },
      "source": [
        "#Multi-layer Perceptron "
      ]
    },
    {
      "cell_type": "code",
      "metadata": {
        "id": "wx_tB75eI_0U",
        "outputId": "228426ef-7a83-42a8-986a-fb6ff6e58494",
        "colab": {
          "base_uri": "https://localhost:8080/",
          "height": 136
        }
      },
      "source": [
        "mlp = MLPClassifier(solver='lbfgs', hidden_layer_sizes=(3, ), random_state=1)\n",
        "\n",
        "log = train_test(mlp)\n",
        "print(log)"
      ],
      "execution_count": 8,
      "outputs": [
        {
          "output_type": "stream",
          "text": [
            "Tempo gasto: 5.389s\n",
            "\n",
            "Tempo médio de treinamento: 0.529\n",
            "Tempo médio de teste: 0.007\n",
            "Tempo total médio: 0.537\n",
            "Acurácia média: 0.388\n",
            "F1-score médio de teste: 0.344\n"
          ],
          "name": "stdout"
        }
      ]
    },
    {
      "cell_type": "markdown",
      "metadata": {
        "id": "SWuTxtA5srh4"
      },
      "source": [
        "**Ajuste de parâmetros da Rede Neural**"
      ]
    },
    {
      "cell_type": "code",
      "metadata": {
        "id": "U2KjbMwVsp4X",
        "outputId": "be02cf3a-685f-4992-f5e0-729e9007c7ee",
        "colab": {
          "base_uri": "https://localhost:8080/",
          "height": 86
        }
      },
      "source": [
        "'''\n",
        "mlp_aj = MLPClassifier(max_iter=100)\n",
        "\n",
        "#definição do espaço de hiperparâmetros\n",
        "parameter_space = {\n",
        "    'hidden_layer_sizes': [(50,50,50), (50,100,50), (100,)],\n",
        "    'activation': ['tanh', 'relu'],\n",
        "    'solver': ['sgd', 'adam', 'lbfgs'],\n",
        "    'alpha': [0.0001, 0.05],\n",
        "    'learning_rate': ['constant','adaptive'],\n",
        "}\n",
        "\n",
        "# A execucao desse bloco de codigo pode demorar.\n",
        "\n",
        "from sklearn.model_selection import GridSearchCV\n",
        "\n",
        "clf = GridSearchCV(mlp_aj, parameter_space, n_jobs=-1, cv=cv)\n",
        "clf.fit(data, target)\n",
        "\n",
        "# Best paramete set\n",
        "print('Best parameters found:\\n', clf.best_params_)\n",
        "'''"
      ],
      "execution_count": 9,
      "outputs": [
        {
          "output_type": "execute_result",
          "data": {
            "application/vnd.google.colaboratory.intrinsic+json": {
              "type": "string"
            },
            "text/plain": [
              "\"\\nmlp_aj = MLPClassifier(max_iter=100)\\n\\n#definição do espaço de hiperparâmetros\\nparameter_space = {\\n    'hidden_layer_sizes': [(50,50,50), (50,100,50), (100,)],\\n    'activation': ['tanh', 'relu'],\\n    'solver': ['sgd', 'adam', 'lbfgs'],\\n    'alpha': [0.0001, 0.05],\\n    'learning_rate': ['constant','adaptive'],\\n}\\n\\n# A execucao desse bloco de codigo pode demorar.\\n\\nfrom sklearn.model_selection import GridSearchCV\\n\\nclf = GridSearchCV(mlp_aj, parameter_space, n_jobs=-1, cv=cv)\\nclf.fit(data, target)\\n\\n# Best paramete set\\nprint('Best parameters found:\\n', clf.best_params_)\\n\""
            ]
          },
          "metadata": {
            "tags": []
          },
          "execution_count": 9
        }
      ]
    },
    {
      "cell_type": "markdown",
      "metadata": {
        "id": "88xvE_tBtjrY"
      },
      "source": [
        "O resultado do GridSearchCV foi:\n",
        "\n",
        "```\n",
        "Best parameters found:\n",
        "{'activation': 'relu', 'alpha': 0.05, 'hidden_layer_sizes': (50, 100, 50), 'learning_rate': 'adaptive', 'solver': 'sgd'}\n",
        "```\n",
        "\n"
      ]
    },
    {
      "cell_type": "markdown",
      "metadata": {
        "id": "5bQTr02ht1cS"
      },
      "source": [
        "Aplicando os parâmetros encontrados:"
      ]
    },
    {
      "cell_type": "code",
      "metadata": {
        "id": "M0tfvt7ht0kx",
        "outputId": "19dca5b5-a7c3-47ca-f9d1-23383c939921",
        "colab": {
          "base_uri": "https://localhost:8080/",
          "height": 136
        }
      },
      "source": [
        "mlp = MLPClassifier(activation='relu', alpha=0.05,\n",
        "                    hidden_layer_sizes=(50, 100, 50), \n",
        "                    learning_rate='adaptive',\n",
        "                    solver='sgd', random_state=42)\n",
        "\n",
        "log = train_test(mlp)\n",
        "print(log)"
      ],
      "execution_count": 10,
      "outputs": [
        {
          "output_type": "stream",
          "text": [
            "Tempo gasto: 803.407s\n",
            "\n",
            "Tempo médio de treinamento: 80.32\n",
            "Tempo médio de teste: 0.019\n",
            "Tempo total médio: 80.338\n",
            "Acurácia média: 0.882\n",
            "F1-score médio de teste: 0.85\n"
          ],
          "name": "stdout"
        }
      ]
    },
    {
      "cell_type": "markdown",
      "metadata": {
        "id": "574GqOimI0x7"
      },
      "source": [
        "#SVM"
      ]
    },
    {
      "cell_type": "code",
      "metadata": {
        "id": "BlVlm15FI2EW",
        "outputId": "3266eea2-8b7c-4b2e-cf13-9ff50bc89127",
        "colab": {
          "base_uri": "https://localhost:8080/",
          "height": 136
        }
      },
      "source": [
        "svm = SVC(max_iter=10000, C= 1, gamma= 0.0001, kernel= 'rbf')\n",
        "log = train_test(svm)\n",
        "print(log)"
      ],
      "execution_count": 11,
      "outputs": [
        {
          "output_type": "stream",
          "text": [
            "Tempo gasto: 561.982s\n",
            "\n",
            "Tempo médio de treinamento: 52.447\n",
            "Tempo médio de teste: 3.749\n",
            "Tempo total médio: 56.196\n",
            "Acurácia média: 0.88\n",
            "F1-score médio de teste: 0.855\n"
          ],
          "name": "stdout"
        }
      ]
    },
    {
      "cell_type": "markdown",
      "metadata": {
        "id": "mnFKT0xRQkr-"
      },
      "source": [
        "Com dados padronizados:"
      ]
    },
    {
      "cell_type": "code",
      "metadata": {
        "id": "yWtqr4gKQcyi",
        "outputId": "3c669915-bd5e-41f4-cb19-6b0fc2d4e7ad",
        "colab": {
          "base_uri": "https://localhost:8080/",
          "height": 136
        }
      },
      "source": [
        "svm = SVC(max_iter=10000, C= 1, gamma= 0.0001, kernel= 'rbf')\n",
        "\n",
        "ss = StandardScaler()\n",
        "data_std = pd.DataFrame(ss.fit_transform(data), columns = data.columns)\n",
        "\n",
        "log = train_test(svm, data_std)\n",
        "print(log)"
      ],
      "execution_count": 12,
      "outputs": [
        {
          "output_type": "stream",
          "text": [
            "Tempo gasto: 435.138s\n",
            "\n",
            "Tempo médio de treinamento: 40.575\n",
            "Tempo médio de teste: 2.937\n",
            "Tempo total médio: 43.512\n",
            "Acurácia média: 0.893\n",
            "F1-score médio de teste: 0.86\n"
          ],
          "name": "stdout"
        }
      ]
    }
  ]
}