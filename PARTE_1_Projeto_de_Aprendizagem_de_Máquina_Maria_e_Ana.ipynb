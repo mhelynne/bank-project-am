{
  "nbformat": 4,
  "nbformat_minor": 0,
  "metadata": {
    "colab": {
      "name": "PARTE 1 - Projeto de Aprendizagem de Máquina - Maria e Ana ",
      "provenance": [],
      "collapsed_sections": [],
      "toc_visible": true,
      "include_colab_link": true
    },
    "kernelspec": {
      "name": "python3",
      "display_name": "Python 3"
    }
  },
  "cells": [
    {
      "cell_type": "markdown",
      "metadata": {
        "id": "view-in-github",
        "colab_type": "text"
      },
      "source": [
        "<a href=\"https://colab.research.google.com/github/mhelynne/bank-project-am/blob/master/PARTE_1_Projeto_de_Aprendizagem_de_M%C3%A1quina_Maria_e_Ana.ipynb\" target=\"_parent\"><img src=\"https://colab.research.google.com/assets/colab-badge.svg\" alt=\"Open In Colab\"/></a>"
      ]
    },
    {
      "cell_type": "markdown",
      "metadata": {
        "id": "EKCffyy07932",
        "colab_type": "text"
      },
      "source": [
        "#Projeto da disciplina Aprendizagem de Máquina\n",
        "Professores: Evandro Costa e Xu Yang\n",
        "\n",
        "Alunas: Ana Correia e Helynne Lima"
      ]
    },
    {
      "cell_type": "markdown",
      "metadata": {
        "id": "Hi1xTnDFNnd1",
        "colab_type": "text"
      },
      "source": [
        "O banco de dados escolhido para trabalhar neste projeto foi o Bank Marketing Data Set, disponível [aqui](https://archive.ics.uci.edu/ml/datasets/Bank+Marketing)."
      ]
    },
    {
      "cell_type": "markdown",
      "metadata": {
        "id": "uOA9xDSy77mr",
        "colab_type": "text"
      },
      "source": [
        "#Importação dos dados"
      ]
    },
    {
      "cell_type": "markdown",
      "metadata": {
        "id": "nqlAALCzOcSc",
        "colab_type": "text"
      },
      "source": [
        "Para importação do banco de dados, utilizamos uma cópia de sua versão completa, a qual foi hospedada no Github. O comando .head() permite conhecer as primeiras linhas do banco de dados."
      ]
    },
    {
      "cell_type": "code",
      "metadata": {
        "id": "ZujdX6aqOh7T",
        "colab_type": "code",
        "colab": {
          "base_uri": "https://localhost:8080/",
          "height": 224
        },
        "outputId": "8e81db0c-c652-4cc6-da52-a97bd0be7433"
      },
      "source": [
        "import pandas as pd\n",
        "\n",
        "url = 'https://github.com/mhelynne/bank-project-am/blob/master/bank/bank-full.csv?raw=true'\n",
        "bank_full = pd.read_csv(url, sep=\";\")\n",
        "\n",
        "bank_full.head()"
      ],
      "execution_count": 1,
      "outputs": [
        {
          "output_type": "execute_result",
          "data": {
            "text/html": [
              "<div>\n",
              "<style scoped>\n",
              "    .dataframe tbody tr th:only-of-type {\n",
              "        vertical-align: middle;\n",
              "    }\n",
              "\n",
              "    .dataframe tbody tr th {\n",
              "        vertical-align: top;\n",
              "    }\n",
              "\n",
              "    .dataframe thead th {\n",
              "        text-align: right;\n",
              "    }\n",
              "</style>\n",
              "<table border=\"1\" class=\"dataframe\">\n",
              "  <thead>\n",
              "    <tr style=\"text-align: right;\">\n",
              "      <th></th>\n",
              "      <th>age</th>\n",
              "      <th>job</th>\n",
              "      <th>marital</th>\n",
              "      <th>education</th>\n",
              "      <th>default</th>\n",
              "      <th>balance</th>\n",
              "      <th>housing</th>\n",
              "      <th>loan</th>\n",
              "      <th>contact</th>\n",
              "      <th>day</th>\n",
              "      <th>month</th>\n",
              "      <th>duration</th>\n",
              "      <th>campaign</th>\n",
              "      <th>pdays</th>\n",
              "      <th>previous</th>\n",
              "      <th>poutcome</th>\n",
              "      <th>y</th>\n",
              "    </tr>\n",
              "  </thead>\n",
              "  <tbody>\n",
              "    <tr>\n",
              "      <th>0</th>\n",
              "      <td>58</td>\n",
              "      <td>management</td>\n",
              "      <td>married</td>\n",
              "      <td>tertiary</td>\n",
              "      <td>no</td>\n",
              "      <td>2143</td>\n",
              "      <td>yes</td>\n",
              "      <td>no</td>\n",
              "      <td>unknown</td>\n",
              "      <td>5</td>\n",
              "      <td>may</td>\n",
              "      <td>261</td>\n",
              "      <td>1</td>\n",
              "      <td>-1</td>\n",
              "      <td>0</td>\n",
              "      <td>unknown</td>\n",
              "      <td>no</td>\n",
              "    </tr>\n",
              "    <tr>\n",
              "      <th>1</th>\n",
              "      <td>44</td>\n",
              "      <td>technician</td>\n",
              "      <td>single</td>\n",
              "      <td>secondary</td>\n",
              "      <td>no</td>\n",
              "      <td>29</td>\n",
              "      <td>yes</td>\n",
              "      <td>no</td>\n",
              "      <td>unknown</td>\n",
              "      <td>5</td>\n",
              "      <td>may</td>\n",
              "      <td>151</td>\n",
              "      <td>1</td>\n",
              "      <td>-1</td>\n",
              "      <td>0</td>\n",
              "      <td>unknown</td>\n",
              "      <td>no</td>\n",
              "    </tr>\n",
              "    <tr>\n",
              "      <th>2</th>\n",
              "      <td>33</td>\n",
              "      <td>entrepreneur</td>\n",
              "      <td>married</td>\n",
              "      <td>secondary</td>\n",
              "      <td>no</td>\n",
              "      <td>2</td>\n",
              "      <td>yes</td>\n",
              "      <td>yes</td>\n",
              "      <td>unknown</td>\n",
              "      <td>5</td>\n",
              "      <td>may</td>\n",
              "      <td>76</td>\n",
              "      <td>1</td>\n",
              "      <td>-1</td>\n",
              "      <td>0</td>\n",
              "      <td>unknown</td>\n",
              "      <td>no</td>\n",
              "    </tr>\n",
              "    <tr>\n",
              "      <th>3</th>\n",
              "      <td>47</td>\n",
              "      <td>blue-collar</td>\n",
              "      <td>married</td>\n",
              "      <td>unknown</td>\n",
              "      <td>no</td>\n",
              "      <td>1506</td>\n",
              "      <td>yes</td>\n",
              "      <td>no</td>\n",
              "      <td>unknown</td>\n",
              "      <td>5</td>\n",
              "      <td>may</td>\n",
              "      <td>92</td>\n",
              "      <td>1</td>\n",
              "      <td>-1</td>\n",
              "      <td>0</td>\n",
              "      <td>unknown</td>\n",
              "      <td>no</td>\n",
              "    </tr>\n",
              "    <tr>\n",
              "      <th>4</th>\n",
              "      <td>33</td>\n",
              "      <td>unknown</td>\n",
              "      <td>single</td>\n",
              "      <td>unknown</td>\n",
              "      <td>no</td>\n",
              "      <td>1</td>\n",
              "      <td>no</td>\n",
              "      <td>no</td>\n",
              "      <td>unknown</td>\n",
              "      <td>5</td>\n",
              "      <td>may</td>\n",
              "      <td>198</td>\n",
              "      <td>1</td>\n",
              "      <td>-1</td>\n",
              "      <td>0</td>\n",
              "      <td>unknown</td>\n",
              "      <td>no</td>\n",
              "    </tr>\n",
              "  </tbody>\n",
              "</table>\n",
              "</div>"
            ],
            "text/plain": [
              "   age           job  marital  education  ... pdays  previous poutcome   y\n",
              "0   58    management  married   tertiary  ...    -1         0  unknown  no\n",
              "1   44    technician   single  secondary  ...    -1         0  unknown  no\n",
              "2   33  entrepreneur  married  secondary  ...    -1         0  unknown  no\n",
              "3   47   blue-collar  married    unknown  ...    -1         0  unknown  no\n",
              "4   33       unknown   single    unknown  ...    -1         0  unknown  no\n",
              "\n",
              "[5 rows x 17 columns]"
            ]
          },
          "metadata": {
            "tags": []
          },
          "execution_count": 1
        }
      ]
    },
    {
      "cell_type": "markdown",
      "metadata": {
        "id": "ynit_pmS8SL5",
        "colab_type": "text"
      },
      "source": [
        "#Análise exploratória"
      ]
    },
    {
      "cell_type": "markdown",
      "metadata": {
        "id": "85yquIkGTae5",
        "colab_type": "text"
      },
      "source": [
        "Este banco de dados traz um problema de classificação binária, cuja classe alvo está representada pela coluna **y**, cujos valores podem ser **yes** ou **no**. **yes** significa que o cliente aceita o depósito e **no** que não aceita.\n",
        "Vamos verificar quantas instâncias de cada classe há.\n"
      ]
    },
    {
      "cell_type": "code",
      "metadata": {
        "id": "zPbWHiZOUPPC",
        "colab_type": "code",
        "colab": {
          "base_uri": "https://localhost:8080/",
          "height": 51
        },
        "outputId": "d0d22192-fcd1-488e-eb05-38f12702295a"
      },
      "source": [
        "import numpy as np\n",
        "\n",
        "class_y, count_y = np.unique(bank_full.y.array, return_counts=True)\n",
        "\n",
        "print(class_y)\n",
        "print(count_y)"
      ],
      "execution_count": 2,
      "outputs": [
        {
          "output_type": "stream",
          "text": [
            "['no' 'yes']\n",
            "[39922  5289]\n"
          ],
          "name": "stdout"
        }
      ]
    },
    {
      "cell_type": "markdown",
      "metadata": {
        "id": "825KnmsLZhJT",
        "colab_type": "text"
      },
      "source": [
        "Para permitir a criação de um gráfico de pizza, vamos definir a seguinte função, e em seguida chamá-la para ilustrar as proporções de cada classe:"
      ]
    },
    {
      "cell_type": "code",
      "metadata": {
        "id": "VC5TlPKRZmP2",
        "colab_type": "code",
        "colab": {
          "base_uri": "https://localhost:8080/",
          "height": 264
        },
        "outputId": "e376679e-68c3-47d6-c6a8-28ed086c6832"
      },
      "source": [
        "import matplotlib.pyplot as plt\n",
        "\n",
        "def create_pizza(labels, sizes, title, colors = ['#FF6347', '#4169E1']) :\n",
        "    fig1, ax1 = plt.subplots()\n",
        "    explode = (0.1, 0)\n",
        "\n",
        "    ax1.pie(sizes, explode=explode, labels=labels, colors=colors, \n",
        "            autopct='%1.1f%%', shadow=True, startangle=90)\n",
        "    \n",
        "    ax1.axis('equal')\n",
        "    ax1.set_title(title)\n",
        "    plt.show()\n",
        "\n",
        "title = 'Classes'\n",
        "labels = class_y[0], class_y[1]   \n",
        "create_pizza(class_y, count_y, title)"
      ],
      "execution_count": 3,
      "outputs": [
        {
          "output_type": "display_data",
          "data": {
            "image/png": "[encoded data removed]",
            "text/plain": [
              "<Figure size 432x288 with 1 Axes>"
            ]
          },
          "metadata": {
            "tags": []
          }
        }
      ]
    },
    {
      "cell_type": "markdown",
      "metadata": {
        "id": "gJ6PssoRXDZm",
        "colab_type": "text"
      },
      "source": [
        "Há um claro desbalanceamento entre as classes, sendo a classe **yes** a classe minoritária com 11,7% das instâncias e a classe **no** é a classe majoritária com 88.3% das instâncias.\n",
        "\n",
        "De acordo com a descrição da base de dados no repositório UCI, não há instâncias com valores faltando. No entanto, é válido verificar essa condição por meio dos seguinte comando:"
      ]
    },
    {
      "cell_type": "code",
      "metadata": {
        "id": "syWdsJlPXECb",
        "colab_type": "code",
        "colab": {
          "base_uri": "https://localhost:8080/",
          "height": 34
        },
        "outputId": "65998b6a-d7c5-44d8-b889-b047eb642b64"
      },
      "source": [
        "if( not bank_full.isnull().values.any() ):\n",
        "  print(\"Não há instâncias com atributos nulos ou ausentes.\")"
      ],
      "execution_count": 4,
      "outputs": [
        {
          "output_type": "stream",
          "text": [
            "Não há instâncias com atributos nulos ou ausentes.\n"
          ],
          "name": "stdout"
        }
      ]
    },
    {
      "cell_type": "markdown",
      "metadata": {
        "id": "oz8Q0sylSKJM",
        "colab_type": "text"
      },
      "source": [
        "Segundo a descrição da base de dados no repositório UCI, o atributo **duration** deve ser desconsiderado em caso de aplicação da base para um problema de classificação. Como esse é justamente o nosso caso, faremos a remoção desse atribuito.\n",
        "\n",
        "A justificativa encontrada no repositório UCI está a seguir:\n",
        "\n",
        "> \"**duration**: duração do último contato, em segundos (numérico). Observação importante: este atributo afeta fortemente a meta de saída (por exemplo, se duração = 0, então **y** = '**no**'). No entanto, a duração não é conhecida antes que uma chamada seja realizada. Além disso, após o fim da chamada, **y** é obviamente conhecido. Assim, essa entrada deve ser incluída apenas para fins de *benchmark* e deve ser descartada se a intenção for ter um modelo preditivo realista.\n",
        "\n"
      ]
    },
    {
      "cell_type": "code",
      "metadata": {
        "id": "SzJCqKhBS_u5",
        "colab_type": "code",
        "colab": {}
      },
      "source": [
        "bank_full = bank_full.drop('duration', axis=1)"
      ],
      "execution_count": 5,
      "outputs": []
    },
    {
      "cell_type": "markdown",
      "metadata": {
        "id": "nJ2tYu7on_Qw",
        "colab_type": "text"
      },
      "source": [
        "Para aprofundar a análise exploratória da base de dados, a seguir será exibido um relatório elaborado pela a biblioteca ProfileReport. O relatório completo está em anexo, no arquivo dataframe_report.html"
      ]
    },
    {
      "cell_type": "code",
      "metadata": {
        "id": "PIc2LqkRCnZ_",
        "colab_type": "code",
        "colab": {}
      },
      "source": [
        "!pip install -U pandas-profiling"
      ],
      "execution_count": null,
      "outputs": []
    },
    {
      "cell_type": "code",
      "metadata": {
        "id": "XAC3VXbGgTZN",
        "colab_type": "code",
        "colab": {}
      },
      "source": [
        "from pandas_profiling import ProfileReport\n",
        "profile = ProfileReport(bank_full, title='Análise exploratória', \n",
        "                        html={'style':{'full_width':True}})\n",
        "#profile.to_notebook_iframe()\n",
        "profile.to_file(output_file=\"dataframe_report.html\")\n",
        "\n",
        "from google.colab import files\n",
        "files.download('dataframe_report.html')"
      ],
      "execution_count": null,
      "outputs": []
    },
    {
      "cell_type": "markdown",
      "metadata": {
        "id": "_aAIaG8CB1YR",
        "colab_type": "text"
      },
      "source": [
        "#Transformação Categórica-Numérica"
      ]
    },
    {
      "cell_type": "markdown",
      "metadata": {
        "id": "9WLwHhoqsYbH",
        "colab_type": "text"
      },
      "source": [
        "A partir da análise exploratória, foi possível observar que dentre os atributos do banco de dados Bank Marketing, há 16 colunas das quais:\n",
        "* Seis são atributos numéricos: **age, balance, day, campaign, pdays** e **previous**;\n",
        "* Seis são atributos categóricos: **job, marital, education, contact, month** e **poutcome**;\n",
        "* Quatro são atributos booleanos: **default, housing, loan** e **y**."
      ]
    },
    {
      "cell_type": "code",
      "metadata": {
        "id": "6BFT_TSpF69S",
        "colab_type": "code",
        "colab": {
          "base_uri": "https://localhost:8080/",
          "height": 224
        },
        "outputId": "ed37b96c-2c5a-4efe-9d39-73ae326008e7"
      },
      "source": [
        "bank_full.head()"
      ],
      "execution_count": 8,
      "outputs": [
        {
          "output_type": "execute_result",
          "data": {
            "text/html": [
              "<div>\n",
              "<style scoped>\n",
              "    .dataframe tbody tr th:only-of-type {\n",
              "        vertical-align: middle;\n",
              "    }\n",
              "\n",
              "    .dataframe tbody tr th {\n",
              "        vertical-align: top;\n",
              "    }\n",
              "\n",
              "    .dataframe thead th {\n",
              "        text-align: right;\n",
              "    }\n",
              "</style>\n",
              "<table border=\"1\" class=\"dataframe\">\n",
              "  <thead>\n",
              "    <tr style=\"text-align: right;\">\n",
              "      <th></th>\n",
              "      <th>age</th>\n",
              "      <th>job</th>\n",
              "      <th>marital</th>\n",
              "      <th>education</th>\n",
              "      <th>default</th>\n",
              "      <th>balance</th>\n",
              "      <th>housing</th>\n",
              "      <th>loan</th>\n",
              "      <th>contact</th>\n",
              "      <th>day</th>\n",
              "      <th>month</th>\n",
              "      <th>campaign</th>\n",
              "      <th>pdays</th>\n",
              "      <th>previous</th>\n",
              "      <th>poutcome</th>\n",
              "      <th>y</th>\n",
              "    </tr>\n",
              "  </thead>\n",
              "  <tbody>\n",
              "    <tr>\n",
              "      <th>0</th>\n",
              "      <td>58</td>\n",
              "      <td>management</td>\n",
              "      <td>married</td>\n",
              "      <td>tertiary</td>\n",
              "      <td>no</td>\n",
              "      <td>2143</td>\n",
              "      <td>yes</td>\n",
              "      <td>no</td>\n",
              "      <td>unknown</td>\n",
              "      <td>5</td>\n",
              "      <td>may</td>\n",
              "      <td>1</td>\n",
              "      <td>-1</td>\n",
              "      <td>0</td>\n",
              "      <td>unknown</td>\n",
              "      <td>no</td>\n",
              "    </tr>\n",
              "    <tr>\n",
              "      <th>1</th>\n",
              "      <td>44</td>\n",
              "      <td>technician</td>\n",
              "      <td>single</td>\n",
              "      <td>secondary</td>\n",
              "      <td>no</td>\n",
              "      <td>29</td>\n",
              "      <td>yes</td>\n",
              "      <td>no</td>\n",
              "      <td>unknown</td>\n",
              "      <td>5</td>\n",
              "      <td>may</td>\n",
              "      <td>1</td>\n",
              "      <td>-1</td>\n",
              "      <td>0</td>\n",
              "      <td>unknown</td>\n",
              "      <td>no</td>\n",
              "    </tr>\n",
              "    <tr>\n",
              "      <th>2</th>\n",
              "      <td>33</td>\n",
              "      <td>entrepreneur</td>\n",
              "      <td>married</td>\n",
              "      <td>secondary</td>\n",
              "      <td>no</td>\n",
              "      <td>2</td>\n",
              "      <td>yes</td>\n",
              "      <td>yes</td>\n",
              "      <td>unknown</td>\n",
              "      <td>5</td>\n",
              "      <td>may</td>\n",
              "      <td>1</td>\n",
              "      <td>-1</td>\n",
              "      <td>0</td>\n",
              "      <td>unknown</td>\n",
              "      <td>no</td>\n",
              "    </tr>\n",
              "    <tr>\n",
              "      <th>3</th>\n",
              "      <td>47</td>\n",
              "      <td>blue-collar</td>\n",
              "      <td>married</td>\n",
              "      <td>unknown</td>\n",
              "      <td>no</td>\n",
              "      <td>1506</td>\n",
              "      <td>yes</td>\n",
              "      <td>no</td>\n",
              "      <td>unknown</td>\n",
              "      <td>5</td>\n",
              "      <td>may</td>\n",
              "      <td>1</td>\n",
              "      <td>-1</td>\n",
              "      <td>0</td>\n",
              "      <td>unknown</td>\n",
              "      <td>no</td>\n",
              "    </tr>\n",
              "    <tr>\n",
              "      <th>4</th>\n",
              "      <td>33</td>\n",
              "      <td>unknown</td>\n",
              "      <td>single</td>\n",
              "      <td>unknown</td>\n",
              "      <td>no</td>\n",
              "      <td>1</td>\n",
              "      <td>no</td>\n",
              "      <td>no</td>\n",
              "      <td>unknown</td>\n",
              "      <td>5</td>\n",
              "      <td>may</td>\n",
              "      <td>1</td>\n",
              "      <td>-1</td>\n",
              "      <td>0</td>\n",
              "      <td>unknown</td>\n",
              "      <td>no</td>\n",
              "    </tr>\n",
              "  </tbody>\n",
              "</table>\n",
              "</div>"
            ],
            "text/plain": [
              "   age           job  marital  education  ... pdays  previous poutcome   y\n",
              "0   58    management  married   tertiary  ...    -1         0  unknown  no\n",
              "1   44    technician   single  secondary  ...    -1         0  unknown  no\n",
              "2   33  entrepreneur  married  secondary  ...    -1         0  unknown  no\n",
              "3   47   blue-collar  married    unknown  ...    -1         0  unknown  no\n",
              "4   33       unknown   single    unknown  ...    -1         0  unknown  no\n",
              "\n",
              "[5 rows x 16 columns]"
            ]
          },
          "metadata": {
            "tags": []
          },
          "execution_count": 8
        }
      ]
    },
    {
      "cell_type": "markdown",
      "metadata": {
        "id": "zoXvlRl3tx4B",
        "colab_type": "text"
      },
      "source": [
        "No entanto, muitas técnicas e algoritmos de aprendizagem de máquina necessitam trabalhar com dados apenas númericos. Por isso, faz-se necessário transformar as variáveis categóricas em numéricas.\n",
        "\n",
        "Inicialmente, as variáveis **education** e **month** serão transformadas de forma que, para o atributo **month**, os meses serão ordenados de 1 a 12 e, a respeito de **education**, **unknown** será considerado 0, **primary** 1, **secondary** 2 e **tertiary** 3.\n",
        "\n",
        "Para essa transformação utilizaremos um novo dataframe chamado bank_num para não alterar o banco original diretamente."
      ]
    },
    {
      "cell_type": "code",
      "metadata": {
        "id": "jwPbw_baugEU",
        "colab_type": "code",
        "colab": {
          "base_uri": "https://localhost:8080/",
          "height": 224
        },
        "outputId": "6ef2bd35-1d09-4b4d-b723-a5dc7972a000"
      },
      "source": [
        "def transform_part1(bank):\n",
        "  \n",
        "  bank_num = bank.copy()\n",
        "\n",
        "  bank_num['education'] = bank_num['education'].replace(\n",
        "      ['unknown', 'primary', 'secondary', 'tertiary'],[0, 1, 2, 3]\n",
        "      )\n",
        "  bank_num['month'] = bank_num['month'].replace(\n",
        "      ['jan', 'feb', 'mar', 'apr', 'may', 'jun',\n",
        "       'jul', 'aug', 'sep', 'oct', 'nov', 'dec'],\n",
        "      [1, 2, 3, 4, 5, 6, 7, 8, 9, 10, 11, 12]\n",
        "      )\n",
        "  return bank_num\n",
        "\n",
        "transform_part1(bank_full).head()"
      ],
      "execution_count": 9,
      "outputs": [
        {
          "output_type": "execute_result",
          "data": {
            "text/html": [
              "<div>\n",
              "<style scoped>\n",
              "    .dataframe tbody tr th:only-of-type {\n",
              "        vertical-align: middle;\n",
              "    }\n",
              "\n",
              "    .dataframe tbody tr th {\n",
              "        vertical-align: top;\n",
              "    }\n",
              "\n",
              "    .dataframe thead th {\n",
              "        text-align: right;\n",
              "    }\n",
              "</style>\n",
              "<table border=\"1\" class=\"dataframe\">\n",
              "  <thead>\n",
              "    <tr style=\"text-align: right;\">\n",
              "      <th></th>\n",
              "      <th>age</th>\n",
              "      <th>job</th>\n",
              "      <th>marital</th>\n",
              "      <th>education</th>\n",
              "      <th>default</th>\n",
              "      <th>balance</th>\n",
              "      <th>housing</th>\n",
              "      <th>loan</th>\n",
              "      <th>contact</th>\n",
              "      <th>day</th>\n",
              "      <th>month</th>\n",
              "      <th>campaign</th>\n",
              "      <th>pdays</th>\n",
              "      <th>previous</th>\n",
              "      <th>poutcome</th>\n",
              "      <th>y</th>\n",
              "    </tr>\n",
              "  </thead>\n",
              "  <tbody>\n",
              "    <tr>\n",
              "      <th>0</th>\n",
              "      <td>58</td>\n",
              "      <td>management</td>\n",
              "      <td>married</td>\n",
              "      <td>3</td>\n",
              "      <td>no</td>\n",
              "      <td>2143</td>\n",
              "      <td>yes</td>\n",
              "      <td>no</td>\n",
              "      <td>unknown</td>\n",
              "      <td>5</td>\n",
              "      <td>5</td>\n",
              "      <td>1</td>\n",
              "      <td>-1</td>\n",
              "      <td>0</td>\n",
              "      <td>unknown</td>\n",
              "      <td>no</td>\n",
              "    </tr>\n",
              "    <tr>\n",
              "      <th>1</th>\n",
              "      <td>44</td>\n",
              "      <td>technician</td>\n",
              "      <td>single</td>\n",
              "      <td>2</td>\n",
              "      <td>no</td>\n",
              "      <td>29</td>\n",
              "      <td>yes</td>\n",
              "      <td>no</td>\n",
              "      <td>unknown</td>\n",
              "      <td>5</td>\n",
              "      <td>5</td>\n",
              "      <td>1</td>\n",
              "      <td>-1</td>\n",
              "      <td>0</td>\n",
              "      <td>unknown</td>\n",
              "      <td>no</td>\n",
              "    </tr>\n",
              "    <tr>\n",
              "      <th>2</th>\n",
              "      <td>33</td>\n",
              "      <td>entrepreneur</td>\n",
              "      <td>married</td>\n",
              "      <td>2</td>\n",
              "      <td>no</td>\n",
              "      <td>2</td>\n",
              "      <td>yes</td>\n",
              "      <td>yes</td>\n",
              "      <td>unknown</td>\n",
              "      <td>5</td>\n",
              "      <td>5</td>\n",
              "      <td>1</td>\n",
              "      <td>-1</td>\n",
              "      <td>0</td>\n",
              "      <td>unknown</td>\n",
              "      <td>no</td>\n",
              "    </tr>\n",
              "    <tr>\n",
              "      <th>3</th>\n",
              "      <td>47</td>\n",
              "      <td>blue-collar</td>\n",
              "      <td>married</td>\n",
              "      <td>0</td>\n",
              "      <td>no</td>\n",
              "      <td>1506</td>\n",
              "      <td>yes</td>\n",
              "      <td>no</td>\n",
              "      <td>unknown</td>\n",
              "      <td>5</td>\n",
              "      <td>5</td>\n",
              "      <td>1</td>\n",
              "      <td>-1</td>\n",
              "      <td>0</td>\n",
              "      <td>unknown</td>\n",
              "      <td>no</td>\n",
              "    </tr>\n",
              "    <tr>\n",
              "      <th>4</th>\n",
              "      <td>33</td>\n",
              "      <td>unknown</td>\n",
              "      <td>single</td>\n",
              "      <td>0</td>\n",
              "      <td>no</td>\n",
              "      <td>1</td>\n",
              "      <td>no</td>\n",
              "      <td>no</td>\n",
              "      <td>unknown</td>\n",
              "      <td>5</td>\n",
              "      <td>5</td>\n",
              "      <td>1</td>\n",
              "      <td>-1</td>\n",
              "      <td>0</td>\n",
              "      <td>unknown</td>\n",
              "      <td>no</td>\n",
              "    </tr>\n",
              "  </tbody>\n",
              "</table>\n",
              "</div>"
            ],
            "text/plain": [
              "   age           job  marital  education  ... pdays  previous poutcome   y\n",
              "0   58    management  married          3  ...    -1         0  unknown  no\n",
              "1   44    technician   single          2  ...    -1         0  unknown  no\n",
              "2   33  entrepreneur  married          2  ...    -1         0  unknown  no\n",
              "3   47   blue-collar  married          0  ...    -1         0  unknown  no\n",
              "4   33       unknown   single          0  ...    -1         0  unknown  no\n",
              "\n",
              "[5 rows x 16 columns]"
            ]
          },
          "metadata": {
            "tags": []
          },
          "execution_count": 9
        }
      ]
    },
    {
      "cell_type": "markdown",
      "metadata": {
        "id": "5UjFyQtfykNt",
        "colab_type": "text"
      },
      "source": [
        "Continuaremos a transformação das demais variáveis agora tratando das variáveis booleanas."
      ]
    },
    {
      "cell_type": "code",
      "metadata": {
        "id": "XTvAgdG817xB",
        "colab_type": "code",
        "colab": {
          "base_uri": "https://localhost:8080/",
          "height": 224
        },
        "outputId": "f46f2ef3-89ff-4fcd-dc93-dfc6a15b83cd"
      },
      "source": [
        "def transform_part2(bank):\n",
        "\n",
        "  bank_num = transform_part1(bank)\n",
        "  bank_num['default'] = bank_num['default'].replace(['no', 'yes'],[0, 1])\n",
        "  bank_num['housing'] = bank_num['housing'].replace(['no', 'yes'],[0, 1])\n",
        "  bank_num['loan'] = bank_num['loan'].replace(['no', 'yes'],[0, 1])\n",
        "  bank_num['y'] = bank_num['y'].replace(['no', 'yes'],[0, 1])\n",
        "  \n",
        "  return bank_num\n",
        "\n",
        "transform_part2(bank_full).head()"
      ],
      "execution_count": 10,
      "outputs": [
        {
          "output_type": "execute_result",
          "data": {
            "text/html": [
              "<div>\n",
              "<style scoped>\n",
              "    .dataframe tbody tr th:only-of-type {\n",
              "        vertical-align: middle;\n",
              "    }\n",
              "\n",
              "    .dataframe tbody tr th {\n",
              "        vertical-align: top;\n",
              "    }\n",
              "\n",
              "    .dataframe thead th {\n",
              "        text-align: right;\n",
              "    }\n",
              "</style>\n",
              "<table border=\"1\" class=\"dataframe\">\n",
              "  <thead>\n",
              "    <tr style=\"text-align: right;\">\n",
              "      <th></th>\n",
              "      <th>age</th>\n",
              "      <th>job</th>\n",
              "      <th>marital</th>\n",
              "      <th>education</th>\n",
              "      <th>default</th>\n",
              "      <th>balance</th>\n",
              "      <th>housing</th>\n",
              "      <th>loan</th>\n",
              "      <th>contact</th>\n",
              "      <th>day</th>\n",
              "      <th>month</th>\n",
              "      <th>campaign</th>\n",
              "      <th>pdays</th>\n",
              "      <th>previous</th>\n",
              "      <th>poutcome</th>\n",
              "      <th>y</th>\n",
              "    </tr>\n",
              "  </thead>\n",
              "  <tbody>\n",
              "    <tr>\n",
              "      <th>0</th>\n",
              "      <td>58</td>\n",
              "      <td>management</td>\n",
              "      <td>married</td>\n",
              "      <td>3</td>\n",
              "      <td>0</td>\n",
              "      <td>2143</td>\n",
              "      <td>1</td>\n",
              "      <td>0</td>\n",
              "      <td>unknown</td>\n",
              "      <td>5</td>\n",
              "      <td>5</td>\n",
              "      <td>1</td>\n",
              "      <td>-1</td>\n",
              "      <td>0</td>\n",
              "      <td>unknown</td>\n",
              "      <td>0</td>\n",
              "    </tr>\n",
              "    <tr>\n",
              "      <th>1</th>\n",
              "      <td>44</td>\n",
              "      <td>technician</td>\n",
              "      <td>single</td>\n",
              "      <td>2</td>\n",
              "      <td>0</td>\n",
              "      <td>29</td>\n",
              "      <td>1</td>\n",
              "      <td>0</td>\n",
              "      <td>unknown</td>\n",
              "      <td>5</td>\n",
              "      <td>5</td>\n",
              "      <td>1</td>\n",
              "      <td>-1</td>\n",
              "      <td>0</td>\n",
              "      <td>unknown</td>\n",
              "      <td>0</td>\n",
              "    </tr>\n",
              "    <tr>\n",
              "      <th>2</th>\n",
              "      <td>33</td>\n",
              "      <td>entrepreneur</td>\n",
              "      <td>married</td>\n",
              "      <td>2</td>\n",
              "      <td>0</td>\n",
              "      <td>2</td>\n",
              "      <td>1</td>\n",
              "      <td>1</td>\n",
              "      <td>unknown</td>\n",
              "      <td>5</td>\n",
              "      <td>5</td>\n",
              "      <td>1</td>\n",
              "      <td>-1</td>\n",
              "      <td>0</td>\n",
              "      <td>unknown</td>\n",
              "      <td>0</td>\n",
              "    </tr>\n",
              "    <tr>\n",
              "      <th>3</th>\n",
              "      <td>47</td>\n",
              "      <td>blue-collar</td>\n",
              "      <td>married</td>\n",
              "      <td>0</td>\n",
              "      <td>0</td>\n",
              "      <td>1506</td>\n",
              "      <td>1</td>\n",
              "      <td>0</td>\n",
              "      <td>unknown</td>\n",
              "      <td>5</td>\n",
              "      <td>5</td>\n",
              "      <td>1</td>\n",
              "      <td>-1</td>\n",
              "      <td>0</td>\n",
              "      <td>unknown</td>\n",
              "      <td>0</td>\n",
              "    </tr>\n",
              "    <tr>\n",
              "      <th>4</th>\n",
              "      <td>33</td>\n",
              "      <td>unknown</td>\n",
              "      <td>single</td>\n",
              "      <td>0</td>\n",
              "      <td>0</td>\n",
              "      <td>1</td>\n",
              "      <td>0</td>\n",
              "      <td>0</td>\n",
              "      <td>unknown</td>\n",
              "      <td>5</td>\n",
              "      <td>5</td>\n",
              "      <td>1</td>\n",
              "      <td>-1</td>\n",
              "      <td>0</td>\n",
              "      <td>unknown</td>\n",
              "      <td>0</td>\n",
              "    </tr>\n",
              "  </tbody>\n",
              "</table>\n",
              "</div>"
            ],
            "text/plain": [
              "   age           job  marital  education  ...  pdays  previous  poutcome  y\n",
              "0   58    management  married          3  ...     -1         0   unknown  0\n",
              "1   44    technician   single          2  ...     -1         0   unknown  0\n",
              "2   33  entrepreneur  married          2  ...     -1         0   unknown  0\n",
              "3   47   blue-collar  married          0  ...     -1         0   unknown  0\n",
              "4   33       unknown   single          0  ...     -1         0   unknown  0\n",
              "\n",
              "[5 rows x 16 columns]"
            ]
          },
          "metadata": {
            "tags": []
          },
          "execution_count": 10
        }
      ]
    },
    {
      "cell_type": "markdown",
      "metadata": {
        "id": "aZcyTZ-c4JVk",
        "colab_type": "text"
      },
      "source": [
        "Agora será utilizada a técnica One-Hot Enconding para a transformação das demais variáveis categóricas em numéricas."
      ]
    },
    {
      "cell_type": "code",
      "metadata": {
        "id": "8nXHkgHA4amX",
        "colab_type": "code",
        "colab": {
          "base_uri": "https://localhost:8080/",
          "height": 241
        },
        "outputId": "9be4c49f-10f2-4e1e-f7f5-3e26323f5f5c"
      },
      "source": [
        "def transform(bank):\n",
        "\n",
        "  bank_num = transform_part2(bank)\n",
        "  columns_to_encode = ['job', 'marital', 'contact', 'poutcome']\n",
        "  bank_num = pd.get_dummies(bank_num, prefix=columns_to_encode,\n",
        "                            columns=columns_to_encode)\n",
        "\n",
        "  # Move a coluna y para o final do dataframe\n",
        "  y = bank_num.pop('y') \n",
        "  bank_num['y'] = y\n",
        "\n",
        "  return bank_num\n",
        "\n",
        "bank_num = transform(bank_full)\n",
        "bank_num.head()"
      ],
      "execution_count": 11,
      "outputs": [
        {
          "output_type": "execute_result",
          "data": {
            "text/html": [
              "<div>\n",
              "<style scoped>\n",
              "    .dataframe tbody tr th:only-of-type {\n",
              "        vertical-align: middle;\n",
              "    }\n",
              "\n",
              "    .dataframe tbody tr th {\n",
              "        vertical-align: top;\n",
              "    }\n",
              "\n",
              "    .dataframe thead th {\n",
              "        text-align: right;\n",
              "    }\n",
              "</style>\n",
              "<table border=\"1\" class=\"dataframe\">\n",
              "  <thead>\n",
              "    <tr style=\"text-align: right;\">\n",
              "      <th></th>\n",
              "      <th>age</th>\n",
              "      <th>education</th>\n",
              "      <th>default</th>\n",
              "      <th>balance</th>\n",
              "      <th>housing</th>\n",
              "      <th>loan</th>\n",
              "      <th>day</th>\n",
              "      <th>month</th>\n",
              "      <th>campaign</th>\n",
              "      <th>pdays</th>\n",
              "      <th>previous</th>\n",
              "      <th>job_admin.</th>\n",
              "      <th>job_blue-collar</th>\n",
              "      <th>job_entrepreneur</th>\n",
              "      <th>job_housemaid</th>\n",
              "      <th>job_management</th>\n",
              "      <th>job_retired</th>\n",
              "      <th>job_self-employed</th>\n",
              "      <th>job_services</th>\n",
              "      <th>job_student</th>\n",
              "      <th>job_technician</th>\n",
              "      <th>job_unemployed</th>\n",
              "      <th>job_unknown</th>\n",
              "      <th>marital_divorced</th>\n",
              "      <th>marital_married</th>\n",
              "      <th>marital_single</th>\n",
              "      <th>contact_cellular</th>\n",
              "      <th>contact_telephone</th>\n",
              "      <th>contact_unknown</th>\n",
              "      <th>poutcome_failure</th>\n",
              "      <th>poutcome_other</th>\n",
              "      <th>poutcome_success</th>\n",
              "      <th>poutcome_unknown</th>\n",
              "      <th>y</th>\n",
              "    </tr>\n",
              "  </thead>\n",
              "  <tbody>\n",
              "    <tr>\n",
              "      <th>0</th>\n",
              "      <td>58</td>\n",
              "      <td>3</td>\n",
              "      <td>0</td>\n",
              "      <td>2143</td>\n",
              "      <td>1</td>\n",
              "      <td>0</td>\n",
              "      <td>5</td>\n",
              "      <td>5</td>\n",
              "      <td>1</td>\n",
              "      <td>-1</td>\n",
              "      <td>0</td>\n",
              "      <td>0</td>\n",
              "      <td>0</td>\n",
              "      <td>0</td>\n",
              "      <td>0</td>\n",
              "      <td>1</td>\n",
              "      <td>0</td>\n",
              "      <td>0</td>\n",
              "      <td>0</td>\n",
              "      <td>0</td>\n",
              "      <td>0</td>\n",
              "      <td>0</td>\n",
              "      <td>0</td>\n",
              "      <td>0</td>\n",
              "      <td>1</td>\n",
              "      <td>0</td>\n",
              "      <td>0</td>\n",
              "      <td>0</td>\n",
              "      <td>1</td>\n",
              "      <td>0</td>\n",
              "      <td>0</td>\n",
              "      <td>0</td>\n",
              "      <td>1</td>\n",
              "      <td>0</td>\n",
              "    </tr>\n",
              "    <tr>\n",
              "      <th>1</th>\n",
              "      <td>44</td>\n",
              "      <td>2</td>\n",
              "      <td>0</td>\n",
              "      <td>29</td>\n",
              "      <td>1</td>\n",
              "      <td>0</td>\n",
              "      <td>5</td>\n",
              "      <td>5</td>\n",
              "      <td>1</td>\n",
              "      <td>-1</td>\n",
              "      <td>0</td>\n",
              "      <td>0</td>\n",
              "      <td>0</td>\n",
              "      <td>0</td>\n",
              "      <td>0</td>\n",
              "      <td>0</td>\n",
              "      <td>0</td>\n",
              "      <td>0</td>\n",
              "      <td>0</td>\n",
              "      <td>0</td>\n",
              "      <td>1</td>\n",
              "      <td>0</td>\n",
              "      <td>0</td>\n",
              "      <td>0</td>\n",
              "      <td>0</td>\n",
              "      <td>1</td>\n",
              "      <td>0</td>\n",
              "      <td>0</td>\n",
              "      <td>1</td>\n",
              "      <td>0</td>\n",
              "      <td>0</td>\n",
              "      <td>0</td>\n",
              "      <td>1</td>\n",
              "      <td>0</td>\n",
              "    </tr>\n",
              "    <tr>\n",
              "      <th>2</th>\n",
              "      <td>33</td>\n",
              "      <td>2</td>\n",
              "      <td>0</td>\n",
              "      <td>2</td>\n",
              "      <td>1</td>\n",
              "      <td>1</td>\n",
              "      <td>5</td>\n",
              "      <td>5</td>\n",
              "      <td>1</td>\n",
              "      <td>-1</td>\n",
              "      <td>0</td>\n",
              "      <td>0</td>\n",
              "      <td>0</td>\n",
              "      <td>1</td>\n",
              "      <td>0</td>\n",
              "      <td>0</td>\n",
              "      <td>0</td>\n",
              "      <td>0</td>\n",
              "      <td>0</td>\n",
              "      <td>0</td>\n",
              "      <td>0</td>\n",
              "      <td>0</td>\n",
              "      <td>0</td>\n",
              "      <td>0</td>\n",
              "      <td>1</td>\n",
              "      <td>0</td>\n",
              "      <td>0</td>\n",
              "      <td>0</td>\n",
              "      <td>1</td>\n",
              "      <td>0</td>\n",
              "      <td>0</td>\n",
              "      <td>0</td>\n",
              "      <td>1</td>\n",
              "      <td>0</td>\n",
              "    </tr>\n",
              "    <tr>\n",
              "      <th>3</th>\n",
              "      <td>47</td>\n",
              "      <td>0</td>\n",
              "      <td>0</td>\n",
              "      <td>1506</td>\n",
              "      <td>1</td>\n",
              "      <td>0</td>\n",
              "      <td>5</td>\n",
              "      <td>5</td>\n",
              "      <td>1</td>\n",
              "      <td>-1</td>\n",
              "      <td>0</td>\n",
              "      <td>0</td>\n",
              "      <td>1</td>\n",
              "      <td>0</td>\n",
              "      <td>0</td>\n",
              "      <td>0</td>\n",
              "      <td>0</td>\n",
              "      <td>0</td>\n",
              "      <td>0</td>\n",
              "      <td>0</td>\n",
              "      <td>0</td>\n",
              "      <td>0</td>\n",
              "      <td>0</td>\n",
              "      <td>0</td>\n",
              "      <td>1</td>\n",
              "      <td>0</td>\n",
              "      <td>0</td>\n",
              "      <td>0</td>\n",
              "      <td>1</td>\n",
              "      <td>0</td>\n",
              "      <td>0</td>\n",
              "      <td>0</td>\n",
              "      <td>1</td>\n",
              "      <td>0</td>\n",
              "    </tr>\n",
              "    <tr>\n",
              "      <th>4</th>\n",
              "      <td>33</td>\n",
              "      <td>0</td>\n",
              "      <td>0</td>\n",
              "      <td>1</td>\n",
              "      <td>0</td>\n",
              "      <td>0</td>\n",
              "      <td>5</td>\n",
              "      <td>5</td>\n",
              "      <td>1</td>\n",
              "      <td>-1</td>\n",
              "      <td>0</td>\n",
              "      <td>0</td>\n",
              "      <td>0</td>\n",
              "      <td>0</td>\n",
              "      <td>0</td>\n",
              "      <td>0</td>\n",
              "      <td>0</td>\n",
              "      <td>0</td>\n",
              "      <td>0</td>\n",
              "      <td>0</td>\n",
              "      <td>0</td>\n",
              "      <td>0</td>\n",
              "      <td>1</td>\n",
              "      <td>0</td>\n",
              "      <td>0</td>\n",
              "      <td>1</td>\n",
              "      <td>0</td>\n",
              "      <td>0</td>\n",
              "      <td>1</td>\n",
              "      <td>0</td>\n",
              "      <td>0</td>\n",
              "      <td>0</td>\n",
              "      <td>1</td>\n",
              "      <td>0</td>\n",
              "    </tr>\n",
              "  </tbody>\n",
              "</table>\n",
              "</div>"
            ],
            "text/plain": [
              "   age  education  default  ...  poutcome_success  poutcome_unknown  y\n",
              "0   58          3        0  ...                 0                 1  0\n",
              "1   44          2        0  ...                 0                 1  0\n",
              "2   33          2        0  ...                 0                 1  0\n",
              "3   47          0        0  ...                 0                 1  0\n",
              "4   33          0        0  ...                 0                 1  0\n",
              "\n",
              "[5 rows x 34 columns]"
            ]
          },
          "metadata": {
            "tags": []
          },
          "execution_count": 11
        }
      ]
    },
    {
      "cell_type": "markdown",
      "metadata": {
        "id": "rMdbyn4oDXwi",
        "colab_type": "text"
      },
      "source": [
        "Com a transformação o banco de dados com variáveis apenas numéricas ficou com 34 colunas."
      ]
    },
    {
      "cell_type": "code",
      "metadata": {
        "id": "2M9UrGx0DoqE",
        "colab_type": "code",
        "colab": {
          "base_uri": "https://localhost:8080/",
          "height": 34
        },
        "outputId": "c694beaf-5c3a-449c-fcd9-80eda5be2c1d"
      },
      "source": [
        "bank_num = transform(bank_full)\n",
        "bank_num.shape[0]"
      ],
      "execution_count": 12,
      "outputs": [
        {
          "output_type": "execute_result",
          "data": {
            "text/plain": [
              "45211"
            ]
          },
          "metadata": {
            "tags": []
          },
          "execution_count": 12
        }
      ]
    },
    {
      "cell_type": "markdown",
      "metadata": {
        "id": "i085GaiDGN9i",
        "colab_type": "text"
      },
      "source": [
        "#Redução de dimensionalidade"
      ]
    },
    {
      "cell_type": "markdown",
      "metadata": {
        "id": "pUvxUM1ANnM-",
        "colab_type": "text"
      },
      "source": [
        "## PCA (Principal Component Analisys)\n",
        "\n",
        "Etapas PCA:\n",
        "\n",
        "1.   Padronize os dados - OK\n",
        "2.   Use os dados padronizados para criar uma matriz de covariância\n",
        "3.   Use a matriz resultante para calcular os autovetores (componentes principais) e seus autovalores correspondentes\n",
        "4.   Classifique os componentes em ordem decrescente por seu autovalor\n",
        "5.   Escolha n componentes que explicam a maior variação dentro dos dados (autovalor maior significa que o recurso explica mais variação).\n",
        "6.   Crie uma nova matriz usando os n componentes.\n",
        "\n",
        "\n",
        "\n",
        "\n",
        "\n",
        "\n"
      ]
    },
    {
      "cell_type": "markdown",
      "metadata": {
        "id": "e9aT1IGep0O9",
        "colab_type": "text"
      },
      "source": [
        "O primeiro passo informa que é necessário padronizar os dados, pois a técnica PCA pode ser afetada pela escala dos valores. Portanto, usando StandardScaler da biblioteca Scikit-Learn os valores do conjunto de dados serão calculados de forma que para cada variável numérica a média seja igual a 0 e o desvio padrão igual a 1. A padronização os dados é feita usando a fórmula z-score, dada por:\n",
        "\n",
        "`z = (x - média) / (desvio padrão)`"
      ]
    },
    {
      "cell_type": "code",
      "metadata": {
        "id": "GCpWHurJr_D7",
        "colab_type": "code",
        "colab": {
          "base_uri": "https://localhost:8080/",
          "height": 241
        },
        "outputId": "485f41c0-be4e-4b35-d312-b57ed75c492f"
      },
      "source": [
        "from sklearn.preprocessing import StandardScaler\n",
        "\n",
        "bank_num = transform(bank_full)\n",
        "\n",
        "y = bank_num.y\n",
        "X = bank_num.drop('y', axis=1)\n",
        "\n",
        "ss = StandardScaler()\n",
        "X_std = pd.DataFrame(ss.fit_transform(X),columns = X.columns)\n",
        "\n",
        "X_std.head()"
      ],
      "execution_count": 13,
      "outputs": [
        {
          "output_type": "execute_result",
          "data": {
            "text/html": [
              "<div>\n",
              "<style scoped>\n",
              "    .dataframe tbody tr th:only-of-type {\n",
              "        vertical-align: middle;\n",
              "    }\n",
              "\n",
              "    .dataframe tbody tr th {\n",
              "        vertical-align: top;\n",
              "    }\n",
              "\n",
              "    .dataframe thead th {\n",
              "        text-align: right;\n",
              "    }\n",
              "</style>\n",
              "<table border=\"1\" class=\"dataframe\">\n",
              "  <thead>\n",
              "    <tr style=\"text-align: right;\">\n",
              "      <th></th>\n",
              "      <th>age</th>\n",
              "      <th>education</th>\n",
              "      <th>default</th>\n",
              "      <th>balance</th>\n",
              "      <th>housing</th>\n",
              "      <th>loan</th>\n",
              "      <th>day</th>\n",
              "      <th>month</th>\n",
              "      <th>campaign</th>\n",
              "      <th>pdays</th>\n",
              "      <th>previous</th>\n",
              "      <th>job_admin.</th>\n",
              "      <th>job_blue-collar</th>\n",
              "      <th>job_entrepreneur</th>\n",
              "      <th>job_housemaid</th>\n",
              "      <th>job_management</th>\n",
              "      <th>job_retired</th>\n",
              "      <th>job_self-employed</th>\n",
              "      <th>job_services</th>\n",
              "      <th>job_student</th>\n",
              "      <th>job_technician</th>\n",
              "      <th>job_unemployed</th>\n",
              "      <th>job_unknown</th>\n",
              "      <th>marital_divorced</th>\n",
              "      <th>marital_married</th>\n",
              "      <th>marital_single</th>\n",
              "      <th>contact_cellular</th>\n",
              "      <th>contact_telephone</th>\n",
              "      <th>contact_unknown</th>\n",
              "      <th>poutcome_failure</th>\n",
              "      <th>poutcome_other</th>\n",
              "      <th>poutcome_success</th>\n",
              "      <th>poutcome_unknown</th>\n",
              "    </tr>\n",
              "  </thead>\n",
              "  <tbody>\n",
              "    <tr>\n",
              "      <th>0</th>\n",
              "      <td>1.606965</td>\n",
              "      <td>1.206484</td>\n",
              "      <td>-0.13549</td>\n",
              "      <td>0.256419</td>\n",
              "      <td>0.893915</td>\n",
              "      <td>-0.436803</td>\n",
              "      <td>-1.298476</td>\n",
              "      <td>-0.475354</td>\n",
              "      <td>-0.569351</td>\n",
              "      <td>-0.411453</td>\n",
              "      <td>-0.25194</td>\n",
              "      <td>-0.359369</td>\n",
              "      <td>-0.523740</td>\n",
              "      <td>-0.184415</td>\n",
              "      <td>-0.16793</td>\n",
              "      <td>1.944270</td>\n",
              "      <td>-0.2296</td>\n",
              "      <td>-0.190234</td>\n",
              "      <td>-0.318082</td>\n",
              "      <td>-0.145557</td>\n",
              "      <td>-0.449414</td>\n",
              "      <td>-0.172266</td>\n",
              "      <td>-0.080069</td>\n",
              "      <td>-0.36078</td>\n",
              "      <td>0.813212</td>\n",
              "      <td>-0.628090</td>\n",
              "      <td>-1.35603</td>\n",
              "      <td>-0.262091</td>\n",
              "      <td>1.572395</td>\n",
              "      <td>-0.348687</td>\n",
              "      <td>-0.205972</td>\n",
              "      <td>-0.185948</td>\n",
              "      <td>0.472519</td>\n",
              "    </tr>\n",
              "    <tr>\n",
              "      <th>1</th>\n",
              "      <td>0.288529</td>\n",
              "      <td>-0.077715</td>\n",
              "      <td>-0.13549</td>\n",
              "      <td>-0.437895</td>\n",
              "      <td>0.893915</td>\n",
              "      <td>-0.436803</td>\n",
              "      <td>-1.298476</td>\n",
              "      <td>-0.475354</td>\n",
              "      <td>-0.569351</td>\n",
              "      <td>-0.411453</td>\n",
              "      <td>-0.25194</td>\n",
              "      <td>-0.359369</td>\n",
              "      <td>-0.523740</td>\n",
              "      <td>-0.184415</td>\n",
              "      <td>-0.16793</td>\n",
              "      <td>-0.514332</td>\n",
              "      <td>-0.2296</td>\n",
              "      <td>-0.190234</td>\n",
              "      <td>-0.318082</td>\n",
              "      <td>-0.145557</td>\n",
              "      <td>2.225121</td>\n",
              "      <td>-0.172266</td>\n",
              "      <td>-0.080069</td>\n",
              "      <td>-0.36078</td>\n",
              "      <td>-1.229691</td>\n",
              "      <td>1.592128</td>\n",
              "      <td>-1.35603</td>\n",
              "      <td>-0.262091</td>\n",
              "      <td>1.572395</td>\n",
              "      <td>-0.348687</td>\n",
              "      <td>-0.205972</td>\n",
              "      <td>-0.185948</td>\n",
              "      <td>0.472519</td>\n",
              "    </tr>\n",
              "    <tr>\n",
              "      <th>2</th>\n",
              "      <td>-0.747384</td>\n",
              "      <td>-0.077715</td>\n",
              "      <td>-0.13549</td>\n",
              "      <td>-0.446762</td>\n",
              "      <td>0.893915</td>\n",
              "      <td>2.289359</td>\n",
              "      <td>-1.298476</td>\n",
              "      <td>-0.475354</td>\n",
              "      <td>-0.569351</td>\n",
              "      <td>-0.411453</td>\n",
              "      <td>-0.25194</td>\n",
              "      <td>-0.359369</td>\n",
              "      <td>-0.523740</td>\n",
              "      <td>5.422561</td>\n",
              "      <td>-0.16793</td>\n",
              "      <td>-0.514332</td>\n",
              "      <td>-0.2296</td>\n",
              "      <td>-0.190234</td>\n",
              "      <td>-0.318082</td>\n",
              "      <td>-0.145557</td>\n",
              "      <td>-0.449414</td>\n",
              "      <td>-0.172266</td>\n",
              "      <td>-0.080069</td>\n",
              "      <td>-0.36078</td>\n",
              "      <td>0.813212</td>\n",
              "      <td>-0.628090</td>\n",
              "      <td>-1.35603</td>\n",
              "      <td>-0.262091</td>\n",
              "      <td>1.572395</td>\n",
              "      <td>-0.348687</td>\n",
              "      <td>-0.205972</td>\n",
              "      <td>-0.185948</td>\n",
              "      <td>0.472519</td>\n",
              "    </tr>\n",
              "    <tr>\n",
              "      <th>3</th>\n",
              "      <td>0.571051</td>\n",
              "      <td>-2.646114</td>\n",
              "      <td>-0.13549</td>\n",
              "      <td>0.047205</td>\n",
              "      <td>0.893915</td>\n",
              "      <td>-0.436803</td>\n",
              "      <td>-1.298476</td>\n",
              "      <td>-0.475354</td>\n",
              "      <td>-0.569351</td>\n",
              "      <td>-0.411453</td>\n",
              "      <td>-0.25194</td>\n",
              "      <td>-0.359369</td>\n",
              "      <td>1.909346</td>\n",
              "      <td>-0.184415</td>\n",
              "      <td>-0.16793</td>\n",
              "      <td>-0.514332</td>\n",
              "      <td>-0.2296</td>\n",
              "      <td>-0.190234</td>\n",
              "      <td>-0.318082</td>\n",
              "      <td>-0.145557</td>\n",
              "      <td>-0.449414</td>\n",
              "      <td>-0.172266</td>\n",
              "      <td>-0.080069</td>\n",
              "      <td>-0.36078</td>\n",
              "      <td>0.813212</td>\n",
              "      <td>-0.628090</td>\n",
              "      <td>-1.35603</td>\n",
              "      <td>-0.262091</td>\n",
              "      <td>1.572395</td>\n",
              "      <td>-0.348687</td>\n",
              "      <td>-0.205972</td>\n",
              "      <td>-0.185948</td>\n",
              "      <td>0.472519</td>\n",
              "    </tr>\n",
              "    <tr>\n",
              "      <th>4</th>\n",
              "      <td>-0.747384</td>\n",
              "      <td>-2.646114</td>\n",
              "      <td>-0.13549</td>\n",
              "      <td>-0.447091</td>\n",
              "      <td>-1.118674</td>\n",
              "      <td>-0.436803</td>\n",
              "      <td>-1.298476</td>\n",
              "      <td>-0.475354</td>\n",
              "      <td>-0.569351</td>\n",
              "      <td>-0.411453</td>\n",
              "      <td>-0.25194</td>\n",
              "      <td>-0.359369</td>\n",
              "      <td>-0.523740</td>\n",
              "      <td>-0.184415</td>\n",
              "      <td>-0.16793</td>\n",
              "      <td>-0.514332</td>\n",
              "      <td>-0.2296</td>\n",
              "      <td>-0.190234</td>\n",
              "      <td>-0.318082</td>\n",
              "      <td>-0.145557</td>\n",
              "      <td>-0.449414</td>\n",
              "      <td>-0.172266</td>\n",
              "      <td>12.489301</td>\n",
              "      <td>-0.36078</td>\n",
              "      <td>-1.229691</td>\n",
              "      <td>1.592128</td>\n",
              "      <td>-1.35603</td>\n",
              "      <td>-0.262091</td>\n",
              "      <td>1.572395</td>\n",
              "      <td>-0.348687</td>\n",
              "      <td>-0.205972</td>\n",
              "      <td>-0.185948</td>\n",
              "      <td>0.472519</td>\n",
              "    </tr>\n",
              "  </tbody>\n",
              "</table>\n",
              "</div>"
            ],
            "text/plain": [
              "        age  education  ...  poutcome_success  poutcome_unknown\n",
              "0  1.606965   1.206484  ...         -0.185948          0.472519\n",
              "1  0.288529  -0.077715  ...         -0.185948          0.472519\n",
              "2 -0.747384  -0.077715  ...         -0.185948          0.472519\n",
              "3  0.571051  -2.646114  ...         -0.185948          0.472519\n",
              "4 -0.747384  -2.646114  ...         -0.185948          0.472519\n",
              "\n",
              "[5 rows x 33 columns]"
            ]
          },
          "metadata": {
            "tags": []
          },
          "execution_count": 13
        }
      ]
    },
    {
      "cell_type": "markdown",
      "metadata": {
        "id": "wMNpZLIof0IG",
        "colab_type": "text"
      },
      "source": [
        "Seguiremos utilizando a biblioteca Scikit-Learn para aplicar o PCA."
      ]
    },
    {
      "cell_type": "code",
      "metadata": {
        "id": "92u7wQGgQp96",
        "colab_type": "code",
        "colab": {}
      },
      "source": [
        "from sklearn import decomposition\n",
        "from sklearn.preprocessing import scale\n",
        "from sklearn.decomposition import PCA\n",
        "\n",
        "n_features = X_std.shape[1]\n",
        "\n",
        "# Para sabermos a quantidade de compontes que consegue descrever melhor os dados\n",
        "# colocamos a princípio a quantidade de features que a base de dados possui\n",
        "covar_matrix = PCA(n_components = n_features) # Temos 34 features"
      ],
      "execution_count": 14,
      "outputs": []
    },
    {
      "cell_type": "code",
      "metadata": {
        "id": "YKlywS8QR0ov",
        "colab_type": "code",
        "colab": {
          "base_uri": "https://localhost:8080/",
          "height": 85
        },
        "outputId": "a563ea0b-2143-4726-db83-b4e8058b7255"
      },
      "source": [
        "covar_matrix.fit(X_std)\n",
        "variance = covar_matrix.explained_variance_ratio_ # Taxa de variância calculada\n",
        "\n",
        "# Cálculo da importância de cada dimensão para descrever\n",
        "# a variabilidade do conjunto de dados\n",
        "var=np.cumsum(np.round(covar_matrix.explained_variance_ratio_, decimals=3)*100)\n",
        "var # Soma cumulativa de variância explicada com o número de features"
      ],
      "execution_count": 15,
      "outputs": [
        {
          "output_type": "execute_result",
          "data": {
            "text/plain": [
              "array([ 10.4,  17.6,  24.1,  28.9,  33.3,  37.4,  41.1,  44.6,  48.1,\n",
              "        51.5,  54.8,  58.1,  61.3,  64.5,  67.6,  70.7,  73.8,  76.9,\n",
              "        79.8,  82.6,  85.3,  87.9,  90.4,  92.8,  94.9,  96.8,  98.3,\n",
              "        99.5, 100. , 100. , 100. , 100. , 100. ])"
            ]
          },
          "metadata": {
            "tags": []
          },
          "execution_count": 15
        }
      ]
    },
    {
      "cell_type": "markdown",
      "metadata": {
        "id": "yG9GpVkQDvXW",
        "colab_type": "text"
      },
      "source": [
        "Na lista acima, vemos que a primeira feature explica 10.4% da variância em nosso conjunto de dados, enquanto os dois primeiros explicam 17.6, e assim por diante.\n",
        "\n",
        "Se empregarmos 23 features, capturamos 90,4% da variância dentro do conjunto de dados."
      ]
    },
    {
      "cell_type": "code",
      "metadata": {
        "id": "v4PTQML_ShZ1",
        "colab_type": "code",
        "colab": {
          "base_uri": "https://localhost:8080/",
          "height": 312
        },
        "outputId": "7d5e4b36-0813-4c3d-8b80-96697b5f4838"
      },
      "source": [
        "plt.xlabel('Número de Features')\n",
        "plt.title('Análise PCA')\n",
        "plt.ylim(30,100.5)\n",
        "plt.style.context('seaborn-whitegrid')\n",
        "\n",
        "plt.plot(var)"
      ],
      "execution_count": 16,
      "outputs": [
        {
          "output_type": "execute_result",
          "data": {
            "text/plain": [
              "[<matplotlib.lines.Line2D at 0x7f8698e83ba8>]"
            ]
          },
          "metadata": {
            "tags": []
          },
          "execution_count": 16
        },
        {
          "output_type": "display_data",
          "data": {
            "image/png": "[encoded data removed]",
            "text/plain": [
              "<Figure size 432x288 with 1 Axes>"
            ]
          },
          "metadata": {
            "tags": [],
            "needs_background": "light"
          }
        }
      ]
    },
    {
      "cell_type": "code",
      "metadata": {
        "id": "hyxQGmLWmV3c",
        "colab_type": "code",
        "colab": {
          "base_uri": "https://localhost:8080/",
          "height": 34
        },
        "outputId": "fd492baa-8f73-46b5-d43a-016363b521f7"
      },
      "source": [
        "covar_matrix = PCA(n_components = 0.9)\n",
        "bank_pca = covar_matrix.fit_transform(X_std)\n",
        "bank_pca = pd.DataFrame(data=bank_pca)\n",
        "print(bank_pca.shape)\n",
        "bank_pca['y'] = y"
      ],
      "execution_count": 17,
      "outputs": [
        {
          "output_type": "stream",
          "text": [
            "(45211, 23)\n"
          ],
          "name": "stdout"
        }
      ]
    },
    {
      "cell_type": "markdown",
      "metadata": {
        "id": "QSv5rek0JXog",
        "colab_type": "text"
      },
      "source": [
        "## FAMD (Factor Analysis of Mixed Data)\n",
        "FAMD é uma técnica de redução de dimensionalidade utilizada em um conjunto de dados que contém características quantitativas e qualitativas.\n",
        "\n",
        "Para utilizarmos essa técnica iremos instalar a pacote Prince e importar a biblioteca FAMD"
      ]
    },
    {
      "cell_type": "code",
      "metadata": {
        "id": "F1uMMn4iJogp",
        "colab_type": "code",
        "colab": {}
      },
      "source": [
        "!pip install prince\n",
        "from prince import FAMD "
      ],
      "execution_count": null,
      "outputs": []
    },
    {
      "cell_type": "markdown",
      "metadata": {
        "id": "LP_989Rs-AnY",
        "colab_type": "text"
      },
      "source": [
        "Para verificarmos o quanto cada componete contribui, faremos o FAMD com a quantidade total de features da base de dados original."
      ]
    },
    {
      "cell_type": "code",
      "metadata": {
        "id": "ttY4yWvmQxcl",
        "colab_type": "code",
        "colab": {}
      },
      "source": [
        "X = bank_full.drop('y', axis=1)\n",
        "\n",
        "n_features = X.shape[1] # Temos 15 features\n",
        "famd = FAMD(n_components = n_features, n_iter = 3, random_state = 101)\n",
        "\n",
        "famd.fit(X)\n",
        "bank_famd = famd.transform(X)"
      ],
      "execution_count": 19,
      "outputs": []
    },
    {
      "cell_type": "code",
      "metadata": {
        "id": "llheZdFDVeft",
        "colab_type": "code",
        "colab": {
          "base_uri": "https://localhost:8080/",
          "height": 51
        },
        "outputId": "9c94667f-5dff-4c85-b74c-0c77dfe4b3eb"
      },
      "source": [
        "var_famd=np.cumsum(np.round(famd.explained_inertia_, decimals=3)*100)\n",
        "var_famd"
      ],
      "execution_count": 20,
      "outputs": [
        {
          "output_type": "execute_result",
          "data": {
            "text/plain": [
              "array([51. , 58.8, 63.8, 68.7, 73.2, 76.3, 79. , 81.1, 82.9, 84.6, 86.2,\n",
              "       87.7, 89. , 90.1, 91.1])"
            ]
          },
          "metadata": {
            "tags": []
          },
          "execution_count": 20
        }
      ]
    },
    {
      "cell_type": "markdown",
      "metadata": {
        "id": "ng7NteqnYk40",
        "colab_type": "text"
      },
      "source": [
        "Na lista acima, vemos que a primeira feature explica 51% da variância em nosso conjunto de dados, enquanto os dois primeiros explicam 58.8, e assim por diante.\n",
        "\n",
        "Se empregarmos 14 features, capturamos 90,1% da variância dentro do conjunto de dados."
      ]
    },
    {
      "cell_type": "code",
      "metadata": {
        "id": "yT3XUcbYTdSo",
        "colab_type": "code",
        "colab": {
          "base_uri": "https://localhost:8080/",
          "height": 312
        },
        "outputId": "720d2d20-b958-4bf6-c294-014c967fc0fa"
      },
      "source": [
        "plt.xlabel('Número de Features')\n",
        "plt.title('Análise FMDA')\n",
        "plt.ylim(30,100.5)\n",
        "plt.style.context('seaborn-whitegrid')\n",
        "\n",
        "plt.plot(var_famd)"
      ],
      "execution_count": 21,
      "outputs": [
        {
          "output_type": "execute_result",
          "data": {
            "text/plain": [
              "[<matplotlib.lines.Line2D at 0x7f8698ca1eb8>]"
            ]
          },
          "metadata": {
            "tags": []
          },
          "execution_count": 21
        },
        {
          "output_type": "display_data",
          "data": {
            "image/png": "[encoded data removed]",
            "text/plain": [
              "<Figure size 432x288 with 1 Axes>"
            ]
          },
          "metadata": {
            "tags": [],
            "needs_background": "light"
          }
        }
      ]
    },
    {
      "cell_type": "code",
      "metadata": {
        "id": "1g6GVXopYmhe",
        "colab_type": "code",
        "colab": {
          "base_uri": "https://localhost:8080/",
          "height": 34
        },
        "outputId": "8b8d2625-e5be-4c73-b57a-2371ab18468f"
      },
      "source": [
        "famd = FAMD(n_components = 14, n_iter = 3, random_state = 101)\n",
        "famd.fit(X)\n",
        "bank_famd = famd.transform(X)\n",
        "bank_famd = pd.DataFrame(data=bank_famd)\n",
        "print(bank_famd.shape)\n",
        "bank_famd['y'] = y"
      ],
      "execution_count": 22,
      "outputs": [
        {
          "output_type": "stream",
          "text": [
            "(45211, 14)\n"
          ],
          "name": "stdout"
        }
      ]
    },
    {
      "cell_type": "markdown",
      "metadata": {
        "id": "NdNlJqmf70hC",
        "colab_type": "text"
      },
      "source": [
        "#Balanceamento"
      ]
    },
    {
      "cell_type": "markdown",
      "metadata": {
        "id": "Ch81Id_LpNyZ",
        "colab_type": "text"
      },
      "source": [
        "Como vimos anteriormente, as quantidades de instâncias de cada classe são bem diferentes, ou seja, estamos diante de classes desbalanceadas. Faz parte do pré-processamento investir em balanceamento para que o número de instâncias de uma classe equipare-se a da outra.\n",
        "\n",
        "Como possui relativamente mais instâncias, a classe **no** é chamada de classe majoritária e a classe **yes**, minoritária. A função a seguir cria subconjuntos separados pela classe.\n",
        "\n",
        "\n",
        "\n"
      ]
    },
    {
      "cell_type": "code",
      "metadata": {
        "id": "mm-6FZ6m4QTs",
        "colab_type": "code",
        "colab": {}
      },
      "source": [
        "def get_maj_min(bank):\n",
        "  bank_majority = bank[bank.y=='no']\n",
        "  bank_minority = bank[bank.y=='yes']\n",
        "\n",
        "  return bank_majority, bank_minority"
      ],
      "execution_count": 23,
      "outputs": []
    },
    {
      "cell_type": "markdown",
      "metadata": {
        "id": "KtkzGqP5t9Y7",
        "colab_type": "text"
      },
      "source": [
        "##Up-sample Minority Class"
      ]
    },
    {
      "cell_type": "markdown",
      "metadata": {
        "id": "9hgKDMiz3AbZ",
        "colab_type": "text"
      },
      "source": [
        "A primeira abordagem de balanceamento que será utilizada é conhecida como  Up-sample Minority Class, que visa aumentar o número de instâncias da classe minonitária.\n",
        "\n",
        "Existem várias formas de fazer isso, mas a maneira mais comum é através de  reamostragem com reposição.\n",
        "\n",
        "A biblioteca Scikit-Learn oferece o módulo de reamostragem. A função a seguir utiliza o método **resample()** que executa a partir dos seguintes parâmetros:\n",
        "- informa-se o dataframe de origem das instâncias, no caso o subconjunto da classe minoritária;\n",
        "- replace=True para garantir que a reamostragem será feita com reposição;\n",
        "- n_samples informa a quantidade de instâncias que deseja-se atingir, no caso queremos igualar a quantidade de instâncias da classe **no**;\n",
        "- random_state é um inteiro que garante saída reproduzível quando o comando for executado outras vezes.\n"
      ]
    },
    {
      "cell_type": "code",
      "metadata": {
        "id": "Ay7L_ld2-MoT",
        "colab_type": "code",
        "colab": {}
      },
      "source": [
        "from sklearn.utils import resample\n",
        "\n",
        "def upsample(bank):\n",
        "  \n",
        "  bank_majority, bank_minority = get_maj_min(bank)\n",
        "  n_no = bank_majority.shape[0]\n",
        "\n",
        "  # Gerando conjunto minoritário ampliado\n",
        "  minority_up = resample(bank_minority, replace=True,\n",
        "                         n_samples=n_no, random_state=10)\n",
        "\n",
        "  # Concatenando o conjunto ampliado ao conjunto majoritário\n",
        "  bank_upsampled = pd.concat([bank_majority, minority_up])\n",
        "  \n",
        "  return bank_upsampled"
      ],
      "execution_count": 24,
      "outputs": []
    },
    {
      "cell_type": "markdown",
      "metadata": {
        "id": "Q4eRtKQG9Z-V",
        "colab_type": "text"
      },
      "source": [
        "Dessa forma, para aplicar a técnica, chamamos a função criada **upsample()**, que gera um conjunto minoritário ampliado utilizando o método resample, e então concatena este conjunto ao conjunto majoritário. Podemos verificar que as classes agora estão balanceadas."
      ]
    },
    {
      "cell_type": "code",
      "metadata": {
        "id": "sskgttMG8pRK",
        "colab_type": "code",
        "colab": {
          "base_uri": "https://localhost:8080/",
          "height": 85
        },
        "outputId": "dcd8496d-48a3-44c5-e09b-624a13a79790"
      },
      "source": [
        "bank_upsampled = upsample(bank_full)\n",
        "\n",
        "u = bank_upsampled.y.value_counts()\n",
        "print(u)\n",
        "print(f'O dataframe foi balanceado utilizando Up-sample'+\n",
        "      f' e agora conta com {u.sum()} exemplos.')"
      ],
      "execution_count": 25,
      "outputs": [
        {
          "output_type": "stream",
          "text": [
            "yes    39922\n",
            "no     39922\n",
            "Name: y, dtype: int64\n",
            "O dataframe foi balanceado utilizando Up-sample e agora conta com 79844 exemplos.\n"
          ],
          "name": "stdout"
        }
      ]
    },
    {
      "cell_type": "markdown",
      "metadata": {
        "id": "JPxB419uxCyj",
        "colab_type": "text"
      },
      "source": [
        "##Down-sample Majority Class"
      ]
    },
    {
      "cell_type": "markdown",
      "metadata": {
        "id": "aJWt2WCW-mCZ",
        "colab_type": "text"
      },
      "source": [
        "Uma outra opção de balanceamento é conhecida como  Down-sample Majority Class, que visa diminuir o número de instâncias da classe majoritária.\n",
        "\n",
        "Agora utilizando reamostragem sem reposição, sortearemos instâncias da classe **no** para removê-las.\n",
        "\n",
        "A função a seguir também utiliza o método **resample()**, mas note que dessa vez:\n",
        "- informa-se o dataframe de origem das instâncias, no caso o subconjunto da classe majoritária;\n",
        "- replace=False para garantir que a reamostragem será feita sem reposição;\n",
        "- n_samples informa a quantidade de instâncias da classe **yes**, para igualar o número;\n",
        "\n"
      ]
    },
    {
      "cell_type": "code",
      "metadata": {
        "id": "xTTWvnbhAL4J",
        "colab_type": "code",
        "colab": {}
      },
      "source": [
        "from sklearn.utils import resample\n",
        "\n",
        "def downsample(bank):\n",
        "  \n",
        "  bank_majority, bank_minority = get_maj_min(bank)\n",
        "  n_yes = bank_minority.shape[0]\n",
        "\n",
        "  # Gerando conjunto majoritário reduzido\n",
        "  majority_down = resample(bank_majority, replace=False,\n",
        "                           n_samples=n_yes, random_state=10)\n",
        "\n",
        "  # Concatenando o conjunto reduzido ao conjunto minoritário\n",
        "  bank_downsampled = pd.concat([majority_down, bank_minority])\n",
        "  \n",
        "  return bank_downsampled"
      ],
      "execution_count": 26,
      "outputs": []
    },
    {
      "cell_type": "markdown",
      "metadata": {
        "id": "z9n8DIu0_uv9",
        "colab_type": "text"
      },
      "source": [
        "Similarmente, para aplicar a técnica, chamamos a função criada **downsample()**, que gera um conjunto majoritário reduzido, e seguida, concatena este conjunto ao conjunto minoritário. Podemos verificar que as classes agora estão balanceadas."
      ]
    },
    {
      "cell_type": "code",
      "metadata": {
        "id": "XyQiwZv6-l2M",
        "colab_type": "code",
        "colab": {
          "base_uri": "https://localhost:8080/",
          "height": 85
        },
        "outputId": "c525cd70-3257-4dfb-e563-e40af0cdfc20"
      },
      "source": [
        "bank_downsampled = downsample(bank_full)\n",
        "d = bank_downsampled.y.value_counts()\n",
        "\n",
        "print(d)\n",
        "print(f'O dataframe foi balanceado utilizando Down-sample' +\n",
        "      f' e agora conta com {d.sum()} exemplos.')"
      ],
      "execution_count": 27,
      "outputs": [
        {
          "output_type": "stream",
          "text": [
            "no     5289\n",
            "yes    5289\n",
            "Name: y, dtype: int64\n",
            "O dataframe foi balanceado utilizando Down-sample e agora conta com 10578 exemplos.\n"
          ],
          "name": "stdout"
        }
      ]
    },
    {
      "cell_type": "markdown",
      "metadata": {
        "id": "V24BPOjo-e6V",
        "colab_type": "text"
      },
      "source": [
        "##SMOTE"
      ]
    },
    {
      "cell_type": "markdown",
      "metadata": {
        "id": "mceUlT-cCp-K",
        "colab_type": "text"
      },
      "source": [
        "É também interessante observar a aplicação da técnica SMOTE (Synthetic Minority Over-sampling) para balanceamento. Ela consiste em uma abordagem Up-sample, porém as instâncias da classe minoritária não apenas são repetidas no subconjunto, alguns valores dos atributos são modificados/calculados, criando \"novas\" instâncias artificiais.\n",
        "\n",
        "A fim de utilizar essa técnica, é preciso instalar a bilioteca imbalanced-learn."
      ]
    },
    {
      "cell_type": "code",
      "metadata": {
        "id": "3OuLsCR1DJjX",
        "colab_type": "code",
        "colab": {}
      },
      "source": [
        "!pip install -U imbalanced-learn"
      ],
      "execution_count": null,
      "outputs": []
    },
    {
      "cell_type": "markdown",
      "metadata": {
        "id": "PGd0vULoDOKx",
        "colab_type": "text"
      },
      "source": [
        "Os comandos na função a seguir, primeiramente, separam os atributos e a classe do conjunto de dados nas variáveis X e y, respectivamente.\n",
        "\n",
        "Depois, se o banco de dados tiver apenas variáveis numéricas usamos a classe SMOTE(). Caso o banco de dados tenha variáveis categóricas também, é possível utilizar a classe SMOTENC, que consegue lidar com atributos nominais e contínuos, informando por parâmetro as colunas de atributos categóricos.\n",
        "\n",
        "Por fim, é possível equilibrar a classe minoritária, transformando o conjunto de dados em um conjunto balanceado, por meio do método fit_resample.\n"
      ]
    },
    {
      "cell_type": "code",
      "metadata": {
        "id": "q7WxQHbADeIo",
        "colab_type": "code",
        "colab": {}
      },
      "source": [
        "from imblearn.over_sampling import SMOTENC\n",
        "from imblearn.over_sampling import SMOTE\n",
        "# Em caso de erro no import, é necessário reiniciar o ambiente de execução\n",
        "\n",
        "def smote(bank, cf=[]):\n",
        "  y = bank.y\n",
        "  X = bank.drop('y', axis=1)\n",
        "\n",
        "  if cf == []:\n",
        "    smote = SMOTE()\n",
        "  else:\n",
        "    smote = SMOTENC(categorical_features=cf)\n",
        "\n",
        "  X, y = smote.fit_resample(X, y)\n",
        "\n",
        "  # Concatenando a coluna da classe de volta ao conjunto de dados dos atributos\n",
        "  bank_smote = X\n",
        "  bank_smote['y'] = y\n",
        "\n",
        "  return bank_smote"
      ],
      "execution_count": 29,
      "outputs": []
    },
    {
      "cell_type": "markdown",
      "metadata": {
        "id": "iMTH7O78IRbY",
        "colab_type": "text"
      },
      "source": [
        "Agora chamamos a função informando o banco que desejameos balancear e os indíces das variáveis (se for o caso), observa-se o novo conjunto balanceado."
      ]
    },
    {
      "cell_type": "code",
      "metadata": {
        "id": "Yu2nuw1BNJby",
        "colab_type": "code",
        "colab": {
          "base_uri": "https://localhost:8080/",
          "height": 85
        },
        "outputId": "d112e3bf-97f2-4175-d6d3-ac0bd019f684"
      },
      "source": [
        "cf_index =[1, 2, 3, 4, 6, 7, 8, 10, 14]\n",
        "bank_smote = smote(bank_full, cf_index)\n",
        "\n",
        "s = bank_smote.y.value_counts()\n",
        "\n",
        "print(s)\n",
        "print(f'O dataframe foi balanceado utilizando Smote e agora conta com {s.sum()} exemplos.')"
      ],
      "execution_count": 30,
      "outputs": [
        {
          "output_type": "stream",
          "text": [
            "yes    39922\n",
            "no     39922\n",
            "Name: y, dtype: int64\n",
            "O dataframe foi balanceado utilizando Smote e agora conta com 79844 exemplos.\n"
          ],
          "name": "stdout"
        }
      ]
    },
    {
      "cell_type": "markdown",
      "metadata": {
        "id": "AQ6AOcYMPCG_",
        "colab_type": "text"
      },
      "source": [
        "É recomendado combinar SMOTE com subamostragem aleatória da classe majoritária. A biblioteca imbalanced-learn oferece suporte à subamostragem aleatória por meio da classe RandomUnderSampler.\n",
        "\n",
        "Dessa forma, escolheu-se primeiro ampliar a classe minoritária para ter metade do número de instâncias da classe majoritária. Depois, decidiu-se diminuir pela metade a classe **no** para igualar-se a classe **yes**.\n",
        "\n",
        "Cria-se então um pipeline com as operações que desejamos realizar. Por fim, aplica-se o pipeline ao conjunto de dados com os atributos separados pelas variáveis X e y.\n",
        "\n"
      ]
    },
    {
      "cell_type": "code",
      "metadata": {
        "id": "ZpfrWv-ZQagU",
        "colab_type": "code",
        "colab": {}
      },
      "source": [
        "from imblearn.under_sampling import RandomUnderSampler\n",
        "from imblearn.pipeline import Pipeline \n",
        "\n",
        "def smote_under(bank, cf=[], sampling_strategy=0.5):\n",
        "  # Configurando a sobreamostragem para 50% e a submostragem.\n",
        "  if cf==[]:\n",
        "    over = SMOTE(sampling_strategy = sampling_strategy)\n",
        "  else:  \n",
        "    over = SMOTENC(categorical_features= cf,\n",
        "                   sampling_strategy = sampling_strategy)\n",
        "  under = RandomUnderSampler()\n",
        "\n",
        "  # Criando o pipeline\n",
        "  steps = [('o', over), ('u', under)]\n",
        "  pipeline = Pipeline(steps=steps)\n",
        "\n",
        "  # Separando a classe dos atributos\n",
        "  y = bank.y\n",
        "  X = bank.drop('y', axis=1)\n",
        "\n",
        "  # Aplicando o pipeline\n",
        "  X, y = pipeline.fit_resample(X, y)\n",
        "\n",
        "  # Concatenando a coluna da classe de volta \n",
        "  bank_smote_under = X\n",
        "  bank_smote_under['y'] = y\n",
        "\n",
        "  return bank_smote_under"
      ],
      "execution_count": 31,
      "outputs": []
    },
    {
      "cell_type": "markdown",
      "metadata": {
        "id": "d9ZrHg55XLHB",
        "colab_type": "text"
      },
      "source": [
        "Para observar o resultado, é possível contabilizar o novo conjunto balanceado da seguinte forma."
      ]
    },
    {
      "cell_type": "code",
      "metadata": {
        "id": "H12HsADJXJSV",
        "colab_type": "code",
        "colab": {
          "base_uri": "https://localhost:8080/",
          "height": 85
        },
        "outputId": "be8ac945-3900-435d-dd6c-9069bdf1ea09"
      },
      "source": [
        "cf_index =[1, 2, 3, 4, 6, 7, 8, 10, 14]\n",
        "bank_smote_under = smote_under(bank_full, cf_index)\n",
        "\n",
        "su = bank_smote_under.y.value_counts()\n",
        "\n",
        "print(su)\n",
        "print(f'O dataframe foi balanceado utilizando Smote e agora conta com {su.sum()} exemplos.')"
      ],
      "execution_count": 32,
      "outputs": [
        {
          "output_type": "stream",
          "text": [
            "no     19961\n",
            "yes    19961\n",
            "Name: y, dtype: int64\n",
            "O dataframe foi balanceado utilizando Smote e agora conta com 39922 exemplos.\n"
          ],
          "name": "stdout"
        }
      ]
    },
    {
      "cell_type": "markdown",
      "metadata": {
        "id": "r6GlJxoxQ0Gq",
        "colab_type": "text"
      },
      "source": [
        "#Arquivos .csv\n",
        "\n",
        "Para guardar as bases de dados pré-processados, salvamos em .csv e utilizamos o download de arquivos. As linhas para download estão comentadas. Para baixar os bancos que desejar, basta remover o símbolo de comentário na(s) linha(s) e executar. "
      ]
    },
    {
      "cell_type": "code",
      "metadata": {
        "id": "yceZY4mrVOdm",
        "colab_type": "code",
        "colab": {}
      },
      "source": [
        "from google.colab import files"
      ],
      "execution_count": 33,
      "outputs": []
    },
    {
      "cell_type": "markdown",
      "metadata": {
        "id": "bnIEx_W8948D",
        "colab_type": "text"
      },
      "source": [
        "A seguir, vamos salvar a base de dados com as variáveis númericas em um arquivo csv."
      ]
    },
    {
      "cell_type": "code",
      "metadata": {
        "id": "4RrMZpEA9tfV",
        "colab_type": "code",
        "colab": {}
      },
      "source": [
        "bank_num.to_csv('bank_num.csv') \n",
        "#files.download('bank_num.csv')"
      ],
      "execution_count": 34,
      "outputs": []
    },
    {
      "cell_type": "markdown",
      "metadata": {
        "id": "epSG37sqPZev",
        "colab_type": "text"
      },
      "source": [
        "Salvaremos também as versões após a redução de dimensionalidade com PCA e FAMD."
      ]
    },
    {
      "cell_type": "code",
      "metadata": {
        "id": "8TKqNPpOVHOh",
        "colab_type": "code",
        "colab": {}
      },
      "source": [
        "bank_pca.to_csv('bank_pca.csv') \n",
        "#files.download('bank_pca.csv')\n",
        "\n",
        "bank_famd.to_csv('bank_famd.csv') \n",
        "#files.download('bank_famd.csv')"
      ],
      "execution_count": 35,
      "outputs": []
    },
    {
      "cell_type": "markdown",
      "metadata": {
        "id": "aSYCxQ22VgAP",
        "colab_type": "text"
      },
      "source": [
        "Salvaremos ainda as versões balancedas do banco original e dos bancos acima com as quatro técnicas de balanceamento utilizadas."
      ]
    },
    {
      "cell_type": "code",
      "metadata": {
        "id": "64cWkHBBPfye",
        "colab_type": "code",
        "colab": {}
      },
      "source": [
        "from google.colab import files\n",
        "\n",
        "# Bancos balanceados a partir de bank_full\n",
        "bank_upsampled.to_csv('bank_upsampled.csv') \n",
        "#files.download('bank_upsampled.csv')\n",
        "\n",
        "bank_downsampled.to_csv('bank_downsampled.csv') \n",
        "#files.download('bank_downsampled.csv')\n",
        "\n",
        "bank_smote.to_csv('bank_smote.csv') \n",
        "#files.download('bank_smote.csv')\n",
        "\n",
        "bank_smote_under.to_csv('bank_smote_under.csv') \n",
        "#files.download('bank_smote_under.csv')"
      ],
      "execution_count": 36,
      "outputs": []
    },
    {
      "cell_type": "code",
      "metadata": {
        "id": "0GjSYwKDQx4Y",
        "colab_type": "code",
        "colab": {
          "base_uri": "https://localhost:8080/",
          "height": 71
        },
        "outputId": "e14fded5-f81f-4064-c9d9-243282ebde0a"
      },
      "source": [
        "from google.colab import files\n",
        "\n",
        "# Bancos balanceados a partir de bank_num\n",
        "bank_num_upsampled = upsample(bank_num)\n",
        "bank_num_upsampled.to_csv('bank_num_upsampled.csv') \n",
        "#files.download('bank_num_upsampled.csv')\n",
        "\n",
        "bank_num_downsampled = downsample(bank_num)\n",
        "bank_num_downsampled.to_csv('bank_num_downsampled.csv') \n",
        "#files.download('bank_num_downsampled.csv')\n",
        "\n",
        "bank_num_smote = smote(bank_num)\n",
        "bank_num_smote.to_csv('bank_num_smote.csv') \n",
        "#files.download('bank_num_smote.csv')\n",
        "\n",
        "bank_num_smote_under = smote_under(bank_num)\n",
        "bank_num_smote_under.to_csv('bank_num_smote_under.csv') \n",
        "#files.download('bank_num_smote_under.csv')"
      ],
      "execution_count": 37,
      "outputs": [
        {
          "output_type": "stream",
          "text": [
            "/usr/local/lib/python3.6/dist-packages/pandas/core/ops/array_ops.py:253: FutureWarning: elementwise comparison failed; returning scalar instead, but in the future will perform elementwise comparison\n",
            "  res_values = method(rvalues)\n"
          ],
          "name": "stderr"
        }
      ]
    },
    {
      "cell_type": "code",
      "metadata": {
        "id": "gkYbTd-rb0jm",
        "colab_type": "code",
        "colab": {
          "base_uri": "https://localhost:8080/",
          "height": 71
        },
        "outputId": "5671f708-9745-47db-cb70-f66b0e972118"
      },
      "source": [
        "from google.colab import files\n",
        "\n",
        "# Bancos balanceados a partir de bank_pca\n",
        "bank_pca_upsampled = upsample(bank_pca)\n",
        "bank_pca_upsampled.to_csv('bank_pca_upsampled.csv') \n",
        "#files.download('bank_pca_upsampled.csv')\n",
        "\n",
        "bank_pca_downsampled = downsample(bank_pca)\n",
        "bank_pca_downsampled.to_csv('bank_pca_downsampled.csv') \n",
        "#files.download('bank_pca_downsampled.csv')\n",
        "\n",
        "bank_pca_smote = smote(bank_pca)\n",
        "bank_pca_smote.to_csv('bank_pca_smote.csv') \n",
        "#files.download('bank_pca_smote.csv')\n",
        "\n",
        "bank_pca_smote_under = smote_under(bank_pca)\n",
        "bank_pca_smote_under.to_csv('bank_pca_smote_under.csv') \n",
        "#files.download('bank_pca_smote_under.csv')"
      ],
      "execution_count": 38,
      "outputs": [
        {
          "output_type": "stream",
          "text": [
            "/usr/local/lib/python3.6/dist-packages/pandas/core/ops/array_ops.py:253: FutureWarning: elementwise comparison failed; returning scalar instead, but in the future will perform elementwise comparison\n",
            "  res_values = method(rvalues)\n"
          ],
          "name": "stderr"
        }
      ]
    },
    {
      "cell_type": "code",
      "metadata": {
        "id": "tiitHSwEb3JA",
        "colab_type": "code",
        "colab": {
          "base_uri": "https://localhost:8080/",
          "height": 71
        },
        "outputId": "9ca5022b-ab8d-4131-9af7-1ce8c2095fae"
      },
      "source": [
        "from google.colab import files\n",
        "\n",
        "# Bancos balanceados a partir de bank_famd\n",
        "bank_famd_upsampled = upsample(bank_famd)\n",
        "bank_famd_upsampled.to_csv('bank_famd_upsampled.csv') \n",
        "#files.download('bank_famd_upsampled.csv')\n",
        "\n",
        "bank_famd_downsampled = downsample(bank_famd)\n",
        "bank_famd_downsampled.to_csv('bank_famd_downsampled.csv') \n",
        "#files.download('bank_famd_downsampled.csv')\n",
        "\n",
        "bank_famd_smote = smote(bank_famd)\n",
        "bank_famd_smote.to_csv('bank_famd_smote.csv') \n",
        "#files.download('bank_famd_smote.csv')\n",
        "\n",
        "bank_famd_smote_under = smote_under(bank_famd)\n",
        "bank_famd_smote_under.to_csv('bank_famd_smote_under.csv') \n",
        "#files.download('bank_famd_smote_under.csv')"
      ],
      "execution_count": 39,
      "outputs": [
        {
          "output_type": "stream",
          "text": [
            "/usr/local/lib/python3.6/dist-packages/pandas/core/ops/array_ops.py:253: FutureWarning: elementwise comparison failed; returning scalar instead, but in the future will perform elementwise comparison\n",
            "  res_values = method(rvalues)\n"
          ],
          "name": "stderr"
        }
      ]
    }
  ]
}